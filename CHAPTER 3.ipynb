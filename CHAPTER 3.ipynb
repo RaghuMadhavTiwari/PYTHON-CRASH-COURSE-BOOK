{
 "cells": [
  {
   "cell_type": "markdown",
   "metadata": {},
   "source": [
    "CHAPTER 3"
   ]
  },
  {
   "cell_type": "code",
   "execution_count": 2,
   "metadata": {},
   "outputs": [
    {
     "data": {
      "text/plain": [
       "['trek', 'cannondale', 'bsa', 'hero']"
      ]
     },
     "execution_count": 2,
     "metadata": {},
     "output_type": "execute_result"
    }
   ],
   "source": [
    "# make a list\n",
    "bicycles=[\"trek\",\"cannondale\",\"bsa\",\"hero\"]\n",
    "bicycles"
   ]
  },
  {
   "cell_type": "code",
   "execution_count": 3,
   "metadata": {},
   "outputs": [
    {
     "data": {
      "text/plain": [
       "'Trek'"
      ]
     },
     "execution_count": 3,
     "metadata": {},
     "output_type": "execute_result"
    }
   ],
   "source": [
    "bicycles[0].title()"
   ]
  },
  {
   "cell_type": "code",
   "execution_count": 4,
   "metadata": {},
   "outputs": [
    {
     "data": {
      "text/plain": [
       "'hero'"
      ]
     },
     "execution_count": 4,
     "metadata": {},
     "output_type": "execute_result"
    }
   ],
   "source": [
    "bicycles[-1]"
   ]
  },
  {
   "cell_type": "code",
   "execution_count": 5,
   "metadata": {},
   "outputs": [
    {
     "name": "stdout",
     "output_type": "stream",
     "text": [
      "cannondale\n"
     ]
    }
   ],
   "source": [
    "print(bicycles[1])"
   ]
  },
  {
   "cell_type": "code",
   "execution_count": 8,
   "metadata": {},
   "outputs": [
    {
     "name": "stdout",
     "output_type": "stream",
     "text": [
      "my first bicycle was a Bsa .\n"
     ]
    }
   ],
   "source": [
    "message=\"my first bicycle was a \"+ bicycles[2].title() + \" .\"\n",
    "print(message)"
   ]
  },
  {
   "cell_type": "code",
   "execution_count": 16,
   "metadata": {},
   "outputs": [
    {
     "name": "stdout",
     "output_type": "stream",
     "text": [
      "['honda', 'hero', 'bajaj']\n"
     ]
    }
   ],
   "source": [
    "# modifying lists\n",
    "motorcycles=[\"honda\",\"hero\",\"bajaj\"]\n",
    "print(motorcycles)"
   ]
  },
  {
   "cell_type": "code",
   "execution_count": 17,
   "metadata": {},
   "outputs": [
    {
     "name": "stdout",
     "output_type": "stream",
     "text": [
      "['yamaha', 'hero', 'bajaj']\n"
     ]
    }
   ],
   "source": [
    "motorcycles[0]=\"yamaha\"\n",
    "print(motorcycles)"
   ]
  },
  {
   "cell_type": "code",
   "execution_count": 18,
   "metadata": {},
   "outputs": [
    {
     "data": {
      "text/plain": [
       "['yamaha', 'hero', 'bajaj', 'honda']"
      ]
     },
     "execution_count": 18,
     "metadata": {},
     "output_type": "execute_result"
    }
   ],
   "source": [
    "# adding new elements to a list\n",
    "motorcycles.append(\"honda\")\n",
    "motorcycles"
   ]
  },
  {
   "cell_type": "code",
   "execution_count": 19,
   "metadata": {},
   "outputs": [
    {
     "data": {
      "text/plain": [
       "['suzuki', 'yamaha', 'hero', 'bajaj', 'honda']"
      ]
     },
     "execution_count": 19,
     "metadata": {},
     "output_type": "execute_result"
    }
   ],
   "source": [
    "motorcycles.insert(0,\"suzuki\")\n",
    "motorcycles"
   ]
  },
  {
   "cell_type": "code",
   "execution_count": 20,
   "metadata": {},
   "outputs": [],
   "source": [
    "del motorcycles[3]"
   ]
  },
  {
   "cell_type": "code",
   "execution_count": 21,
   "metadata": {},
   "outputs": [
    {
     "data": {
      "text/plain": [
       "['suzuki', 'yamaha', 'hero', 'honda']"
      ]
     },
     "execution_count": 21,
     "metadata": {},
     "output_type": "execute_result"
    }
   ],
   "source": [
    "motorcycles"
   ]
  },
  {
   "cell_type": "code",
   "execution_count": 23,
   "metadata": {},
   "outputs": [
    {
     "name": "stdout",
     "output_type": "stream",
     "text": [
      "['suzuki', 'yamaha', 'hero']\n"
     ]
    },
    {
     "data": {
      "text/plain": [
       "'honda'"
      ]
     },
     "execution_count": 23,
     "metadata": {},
     "output_type": "execute_result"
    }
   ],
   "source": [
    "# using pop lets you work with the removed value after removing it\n",
    "motorcycles=['suzuki', 'yamaha', 'hero', 'honda']\n",
    "popped_motorcycles=motorcycles.pop()\n",
    "print(motorcycles)\n",
    "popped_motorcycles"
   ]
  },
  {
   "cell_type": "code",
   "execution_count": 24,
   "metadata": {},
   "outputs": [
    {
     "name": "stdout",
     "output_type": "stream",
     "text": [
      "Last owned motorcycle is honda !\n"
     ]
    }
   ],
   "source": [
    "motorcycles=['suzuki', 'yamaha', 'hero', 'honda']\n",
    "last_owned=motorcycles.pop()\n",
    "print(\"Last owned motorcycle is \" + last_owned + \" !\")"
   ]
  },
  {
   "cell_type": "code",
   "execution_count": 25,
   "metadata": {},
   "outputs": [],
   "source": [
    "# remove an item by value\n",
    "motorcycles.remove(\"hero\")"
   ]
  },
  {
   "cell_type": "code",
   "execution_count": 26,
   "metadata": {},
   "outputs": [
    {
     "data": {
      "text/plain": [
       "['suzuki', 'yamaha']"
      ]
     },
     "execution_count": 26,
     "metadata": {},
     "output_type": "execute_result"
    }
   ],
   "source": [
    "motorcycles"
   ]
  },
  {
   "cell_type": "code",
   "execution_count": 43,
   "metadata": {},
   "outputs": [
    {
     "data": {
      "text/plain": [
       "['Trump', 'obama', 'modi', 'putin']"
      ]
     },
     "execution_count": 43,
     "metadata": {},
     "output_type": "execute_result"
    }
   ],
   "source": [
    "guests=[\"Trump\",\"obama\",\"modi\",\"putin\"]\n",
    "guests"
   ]
  },
  {
   "cell_type": "code",
   "execution_count": 40,
   "metadata": {},
   "outputs": [
    {
     "name": "stdout",
     "output_type": "stream",
     "text": [
      "COME ON COME ALL, TO MY PARTY INVITING YOU Trump !!\n",
      "COME ON COME ALL, TO MY PARTY INVITING YOU Obama !!\n",
      "COME ON COME ALL, TO MY PARTY INVITING YOU Modi !!\n",
      "COME ON COME ALL, TO MY PARTY INVITING YOU Putin !!\n"
     ]
    }
   ],
   "source": [
    "print(\"COME ON COME ALL, TO MY PARTY INVITING YOU \" +guests[0].title() + \" !!\")\n",
    "print(\"COME ON COME ALL, TO MY PARTY INVITING YOU \" +guests[1].title() + \" !!\")\n",
    "print(\"COME ON COME ALL, TO MY PARTY INVITING YOU \" +guests[2].title() + \" !!\")\n",
    "print(\"COME ON COME ALL, TO MY PARTY INVITING YOU \" +guests[3].title() + \" !!\")"
   ]
  },
  {
   "cell_type": "code",
   "execution_count": 41,
   "metadata": {},
   "outputs": [
    {
     "name": "stdout",
     "output_type": "stream",
     "text": [
      "putin can't make it to the party\n"
     ]
    }
   ],
   "source": [
    "print(guests[3]+ \" can't make it to the party\")\n"
   ]
  },
  {
   "cell_type": "code",
   "execution_count": 47,
   "metadata": {},
   "outputs": [
    {
     "data": {
      "text/plain": [
       "['Trump', 'obama', 'putin']"
      ]
     },
     "execution_count": 47,
     "metadata": {},
     "output_type": "execute_result"
    }
   ],
   "source": [
    "guests=[\"Trump\",\"obama\",\"modi\",\"putin\"]\n",
    "guests.remove(\"modi\")\n",
    "guests"
   ]
  },
  {
   "cell_type": "code",
   "execution_count": 48,
   "metadata": {},
   "outputs": [
    {
     "data": {
      "text/plain": [
       "['Trump', 'obama', 'putin', 'queen']"
      ]
     },
     "execution_count": 48,
     "metadata": {},
     "output_type": "execute_result"
    }
   ],
   "source": [
    "guests.append(\"queen\")\n",
    "guests"
   ]
  },
  {
   "cell_type": "code",
   "execution_count": 49,
   "metadata": {},
   "outputs": [
    {
     "name": "stdout",
     "output_type": "stream",
     "text": [
      "COME ON COME ALL, TO MY PARTY INVITING YOU Queen !!\n"
     ]
    }
   ],
   "source": [
    "print(\"COME ON COME ALL, TO MY PARTY INVITING YOU \" +guests[3].title() + \" !!\")"
   ]
  },
  {
   "cell_type": "code",
   "execution_count": 50,
   "metadata": {},
   "outputs": [
    {
     "name": "stdout",
     "output_type": "stream",
     "text": [
      "HURAAH!!!! To all party comers , we just found a bigger table \n"
     ]
    }
   ],
   "source": [
    "print(\"HURAAH!!!! To all party comers , we just found a bigger table \")"
   ]
  },
  {
   "cell_type": "code",
   "execution_count": 51,
   "metadata": {},
   "outputs": [],
   "source": [
    "guests.insert(4,\"JUSTIN\")"
   ]
  },
  {
   "cell_type": "code",
   "execution_count": 53,
   "metadata": {},
   "outputs": [],
   "source": [
    "guests.insert(5,\"benjamin\")\n",
    "guests.append(\"golu\")"
   ]
  },
  {
   "cell_type": "code",
   "execution_count": 54,
   "metadata": {},
   "outputs": [
    {
     "data": {
      "text/plain": [
       "['Trump', 'obama', 'putin', 'queen', 'JUSTIN', 'benjamin', 'golu']"
      ]
     },
     "execution_count": 54,
     "metadata": {},
     "output_type": "execute_result"
    }
   ],
   "source": [
    "guests"
   ]
  },
  {
   "cell_type": "code",
   "execution_count": 55,
   "metadata": {},
   "outputs": [
    {
     "name": "stdout",
     "output_type": "stream",
     "text": [
      "COME ON COME ALL, TO MY PARTY INVITING YOU Justin !!\n",
      "COME ON COME ALL, TO MY PARTY INVITING YOU Benjamin !!\n",
      "COME ON COME ALL, TO MY PARTY INVITING YOU Golu !!\n"
     ]
    }
   ],
   "source": [
    "print(\"COME ON COME ALL, TO MY PARTY INVITING YOU \" +guests[4].title() + \" !!\")\n",
    "print(\"COME ON COME ALL, TO MY PARTY INVITING YOU \" +guests[5].title() + \" !!\")\n",
    "print(\"COME ON COME ALL, TO MY PARTY INVITING YOU \" +guests[6].title() + \" !!\")"
   ]
  },
  {
   "cell_type": "code",
   "execution_count": 57,
   "metadata": {},
   "outputs": [
    {
     "name": "stdout",
     "output_type": "stream",
     "text": [
      "  Dinner table not pproved. Can only invite 2 people now\n"
     ]
    }
   ],
   "source": [
    "print(\"  Dinner table not pproved. Can only invite 2 people now\")"
   ]
  },
  {
   "cell_type": "code",
   "execution_count": 62,
   "metadata": {},
   "outputs": [
    {
     "data": {
      "text/plain": [
       "['putin', 'queen']"
      ]
     },
     "execution_count": 62,
     "metadata": {},
     "output_type": "execute_result"
    }
   ],
   "source": [
    "guests=['Trump', 'obama', 'putin', 'queen', 'JUSTIN', 'benjamin', 'golu']\n",
    "get_out=guests.pop(1)\n",
    "get_out=guests.pop(4)\n",
    "get_out=guests.pop(3)\n",
    "get_out=guests.pop(0)\n",
    "get_out=guests.pop()\n",
    "guests"
   ]
  },
  {
   "cell_type": "code",
   "execution_count": 63,
   "metadata": {},
   "outputs": [],
   "source": [
    "del guests[1]\n",
    "del guests[0]"
   ]
  },
  {
   "cell_type": "code",
   "execution_count": 64,
   "metadata": {},
   "outputs": [
    {
     "data": {
      "text/plain": [
       "[]"
      ]
     },
     "execution_count": 64,
     "metadata": {},
     "output_type": "execute_result"
    }
   ],
   "source": [
    "guests"
   ]
  },
  {
   "cell_type": "code",
   "execution_count": 68,
   "metadata": {},
   "outputs": [
    {
     "data": {
      "text/plain": [
       "['BMW', 'TESLA', 'Audi', 'SUBARU']"
      ]
     },
     "execution_count": 68,
     "metadata": {},
     "output_type": "execute_result"
    }
   ],
   "source": [
    "#sorting\n",
    "cars=[\"BMW\",\"TESLA\",'Audi',\"SUBARU\"]\n",
    "cars"
   ]
  },
  {
   "cell_type": "code",
   "execution_count": 69,
   "metadata": {},
   "outputs": [
    {
     "data": {
      "text/plain": [
       "['Audi', 'BMW', 'SUBARU', 'TESLA']"
      ]
     },
     "execution_count": 69,
     "metadata": {},
     "output_type": "execute_result"
    }
   ],
   "source": [
    "cars.sort()\n",
    "cars"
   ]
  },
  {
   "cell_type": "code",
   "execution_count": 70,
   "metadata": {},
   "outputs": [],
   "source": [
    "cars.sort(reverse=True)"
   ]
  },
  {
   "cell_type": "code",
   "execution_count": 71,
   "metadata": {},
   "outputs": [
    {
     "data": {
      "text/plain": [
       "['TESLA', 'SUBARU', 'BMW', 'Audi']"
      ]
     },
     "execution_count": 71,
     "metadata": {},
     "output_type": "execute_result"
    }
   ],
   "source": [
    "cars"
   ]
  },
  {
   "cell_type": "code",
   "execution_count": 72,
   "metadata": {},
   "outputs": [
    {
     "name": "stdout",
     "output_type": "stream",
     "text": [
      "['audi', 'bmw', 'maruti']\n",
      "['audi', 'maruti', 'bmw']\n"
     ]
    }
   ],
   "source": [
    "cars=[\"audi\",\"maruti\",\"bmw\"]\n",
    "print(sorted(cars) )\n",
    "print(cars)"
   ]
  },
  {
   "cell_type": "code",
   "execution_count": 73,
   "metadata": {},
   "outputs": [
    {
     "data": {
      "text/plain": [
       "['bmw', 'maruti', 'audi']"
      ]
     },
     "execution_count": 73,
     "metadata": {},
     "output_type": "execute_result"
    }
   ],
   "source": [
    "cars=[\"audi\",\"maruti\",\"bmw\"]\n",
    "cars.reverse()\n",
    "cars"
   ]
  },
  {
   "cell_type": "code",
   "execution_count": 74,
   "metadata": {},
   "outputs": [
    {
     "data": {
      "text/plain": [
       "3"
      ]
     },
     "execution_count": 74,
     "metadata": {},
     "output_type": "execute_result"
    }
   ],
   "source": [
    "len(cars)"
   ]
  },
  {
   "cell_type": "code",
   "execution_count": 75,
   "metadata": {},
   "outputs": [
    {
     "data": {
      "text/plain": [
       "['venice', 'new york', 'fiji', 'tokyo', 'kashmir']"
      ]
     },
     "execution_count": 75,
     "metadata": {},
     "output_type": "execute_result"
    }
   ],
   "source": [
    "places=[\"venice\",\"new york\",\"fiji\",\"tokyo\",\"kashmir\"]\n",
    "places"
   ]
  },
  {
   "cell_type": "code",
   "execution_count": 76,
   "metadata": {},
   "outputs": [
    {
     "data": {
      "text/plain": [
       "['fiji', 'kashmir', 'new york', 'tokyo', 'venice']"
      ]
     },
     "execution_count": 76,
     "metadata": {},
     "output_type": "execute_result"
    }
   ],
   "source": [
    "sorted(places)"
   ]
  },
  {
   "cell_type": "code",
   "execution_count": 77,
   "metadata": {},
   "outputs": [
    {
     "data": {
      "text/plain": [
       "['venice', 'new york', 'fiji', 'tokyo', 'kashmir']"
      ]
     },
     "execution_count": 77,
     "metadata": {},
     "output_type": "execute_result"
    }
   ],
   "source": [
    "places"
   ]
  },
  {
   "cell_type": "code",
   "execution_count": 79,
   "metadata": {},
   "outputs": [
    {
     "data": {
      "text/plain": [
       "['venice', 'tokyo', 'new york', 'kashmir', 'fiji']"
      ]
     },
     "execution_count": 79,
     "metadata": {},
     "output_type": "execute_result"
    }
   ],
   "source": [
    "sorted(places,reverse=True)"
   ]
  },
  {
   "cell_type": "code",
   "execution_count": 80,
   "metadata": {},
   "outputs": [
    {
     "data": {
      "text/plain": [
       "['venice', 'new york', 'fiji', 'tokyo', 'kashmir']"
      ]
     },
     "execution_count": 80,
     "metadata": {},
     "output_type": "execute_result"
    }
   ],
   "source": [
    "places"
   ]
  },
  {
   "cell_type": "code",
   "execution_count": 81,
   "metadata": {},
   "outputs": [],
   "source": [
    "places.reverse()"
   ]
  },
  {
   "cell_type": "code",
   "execution_count": 82,
   "metadata": {},
   "outputs": [
    {
     "data": {
      "text/plain": [
       "['kashmir', 'tokyo', 'fiji', 'new york', 'venice']"
      ]
     },
     "execution_count": 82,
     "metadata": {},
     "output_type": "execute_result"
    }
   ],
   "source": [
    "places"
   ]
  },
  {
   "cell_type": "code",
   "execution_count": 83,
   "metadata": {},
   "outputs": [
    {
     "data": {
      "text/plain": [
       "['venice', 'new york', 'fiji', 'tokyo', 'kashmir']"
      ]
     },
     "execution_count": 83,
     "metadata": {},
     "output_type": "execute_result"
    }
   ],
   "source": [
    "places.reverse()\n",
    "places"
   ]
  },
  {
   "cell_type": "code",
   "execution_count": 84,
   "metadata": {},
   "outputs": [
    {
     "data": {
      "text/plain": [
       "['fiji', 'kashmir', 'new york', 'tokyo', 'venice']"
      ]
     },
     "execution_count": 84,
     "metadata": {},
     "output_type": "execute_result"
    }
   ],
   "source": [
    "places.sort()\n",
    "places"
   ]
  },
  {
   "cell_type": "code",
   "execution_count": 85,
   "metadata": {},
   "outputs": [],
   "source": [
    "places.sort(reverse=True)"
   ]
  },
  {
   "cell_type": "code",
   "execution_count": 86,
   "metadata": {},
   "outputs": [
    {
     "data": {
      "text/plain": [
       "['venice', 'tokyo', 'new york', 'kashmir', 'fiji']"
      ]
     },
     "execution_count": 86,
     "metadata": {},
     "output_type": "execute_result"
    }
   ],
   "source": [
    "places"
   ]
  },
  {
   "cell_type": "code",
   "execution_count": null,
   "metadata": {},
   "outputs": [],
   "source": []
  }
 ],
 "metadata": {
  "kernelspec": {
   "display_name": "Python 3",
   "language": "python",
   "name": "python3"
  },
  "language_info": {
   "codemirror_mode": {
    "name": "ipython",
    "version": 3
   },
   "file_extension": ".py",
   "mimetype": "text/x-python",
   "name": "python",
   "nbconvert_exporter": "python",
   "pygments_lexer": "ipython3",
   "version": "3.7.1"
  }
 },
 "nbformat": 4,
 "nbformat_minor": 2
}

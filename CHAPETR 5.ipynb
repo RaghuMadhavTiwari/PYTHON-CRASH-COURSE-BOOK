{
 "cells": [
  {
   "cell_type": "markdown",
   "metadata": {},
   "source": [
    "if statements"
   ]
  },
  {
   "cell_type": "code",
   "execution_count": 26,
   "metadata": {},
   "outputs": [],
   "source": [
    "cars=[\"bmw\",\"audi\",\"bentley\",\"volvo\"]"
   ]
  },
  {
   "cell_type": "code",
   "execution_count": 27,
   "metadata": {},
   "outputs": [
    {
     "name": "stdout",
     "output_type": "stream",
     "text": [
      "BMW\n",
      "Audi\n",
      "Bentley\n",
      "Volvo\n",
      "BMW\n",
      "Audi\n",
      "Bentley\n",
      "Volvo\n"
     ]
    }
   ],
   "source": [
    "for car in cars:\n",
    "    if car==\"bmw\":\n",
    "        print(car.upper())\n",
    "    else:\n",
    "        print(car.title())"
   ]
  },
  {
   "cell_type": "code",
   "execution_count": 3,
   "metadata": {},
   "outputs": [
    {
     "name": "stdout",
     "output_type": "stream",
     "text": [
      "hold the anchovies!\n",
      "hold the anchovies!\n"
     ]
    }
   ],
   "source": [
    "requested_topping=\"mushrooms\"\n",
    "if requested_topping!=\"anchovies\":\n",
    "    print(\"hold the anchovies!\")"
   ]
  },
  {
   "cell_type": "code",
   "execution_count": 4,
   "metadata": {},
   "outputs": [
    {
     "data": {
      "text/plain": [
       "False"
      ]
     },
     "execution_count": 4,
     "metadata": {},
     "output_type": "execute_result"
    },
    {
     "data": {
      "text/plain": [
       "False"
      ]
     },
     "execution_count": 4,
     "metadata": {},
     "output_type": "execute_result"
    }
   ],
   "source": [
    "age0=24\n",
    "age1=19\n",
    "age0>21 & age1>21"
   ]
  },
  {
   "cell_type": "code",
   "execution_count": 5,
   "metadata": {},
   "outputs": [
    {
     "data": {
      "text/plain": [
       "True"
      ]
     },
     "execution_count": 5,
     "metadata": {},
     "output_type": "execute_result"
    },
    {
     "data": {
      "text/plain": [
       "True"
      ]
     },
     "execution_count": 5,
     "metadata": {},
     "output_type": "execute_result"
    }
   ],
   "source": [
    "age0>21 or age1>21"
   ]
  },
  {
   "cell_type": "code",
   "execution_count": 6,
   "metadata": {},
   "outputs": [
    {
     "data": {
      "text/plain": [
       "True"
      ]
     },
     "execution_count": 6,
     "metadata": {},
     "output_type": "execute_result"
    },
    {
     "data": {
      "text/plain": [
       "True"
      ]
     },
     "execution_count": 6,
     "metadata": {},
     "output_type": "execute_result"
    }
   ],
   "source": [
    "toppings=[\"mushroom\",\"cheese\",\"onion\"]\n",
    "\"onion\" in toppings"
   ]
  },
  {
   "cell_type": "code",
   "execution_count": 7,
   "metadata": {},
   "outputs": [
    {
     "data": {
      "text/plain": [
       "False"
      ]
     },
     "execution_count": 7,
     "metadata": {},
     "output_type": "execute_result"
    },
    {
     "data": {
      "text/plain": [
       "False"
      ]
     },
     "execution_count": 7,
     "metadata": {},
     "output_type": "execute_result"
    }
   ],
   "source": [
    "\"tomato\" in toppings"
   ]
  },
  {
   "cell_type": "code",
   "execution_count": 8,
   "metadata": {},
   "outputs": [
    {
     "name": "stdout",
     "output_type": "stream",
     "text": [
      "nhi hai isme!\n",
      "nhi hai isme!\n"
     ]
    }
   ],
   "source": [
    "if \"tomato\" not in toppings:\n",
    "    print(\"nhi hai isme!\")"
   ]
  },
  {
   "cell_type": "code",
   "execution_count": 9,
   "metadata": {},
   "outputs": [
    {
     "name": "stdout",
     "output_type": "stream",
     "text": [
      "Is car=='Subaru'? i predict True\n",
      "True\n",
      "Is car=='Subaru'? i predict True\n",
      "True\n"
     ]
    }
   ],
   "source": [
    "car=\"Subaru\"\n",
    "print(\"Is car=='Subaru'? i predict True\")\n",
    "print(car==\"Subaru\")"
   ]
  },
  {
   "cell_type": "code",
   "execution_count": 10,
   "metadata": {},
   "outputs": [
    {
     "data": {
      "text/plain": [
       "[1,\n",
       " 3,\n",
       " 5,\n",
       " 7,\n",
       " 9,\n",
       " 11,\n",
       " 13,\n",
       " 15,\n",
       " 17,\n",
       " 19,\n",
       " 21,\n",
       " 23,\n",
       " 25,\n",
       " 27,\n",
       " 29,\n",
       " 31,\n",
       " 33,\n",
       " 35,\n",
       " 37,\n",
       " 39,\n",
       " 41,\n",
       " 43,\n",
       " 45,\n",
       " 47,\n",
       " 49]"
      ]
     },
     "execution_count": 10,
     "metadata": {},
     "output_type": "execute_result"
    },
    {
     "data": {
      "text/plain": [
       "[1,\n",
       " 3,\n",
       " 5,\n",
       " 7,\n",
       " 9,\n",
       " 11,\n",
       " 13,\n",
       " 15,\n",
       " 17,\n",
       " 19,\n",
       " 21,\n",
       " 23,\n",
       " 25,\n",
       " 27,\n",
       " 29,\n",
       " 31,\n",
       " 33,\n",
       " 35,\n",
       " 37,\n",
       " 39,\n",
       " 41,\n",
       " 43,\n",
       " 45,\n",
       " 47,\n",
       " 49]"
      ]
     },
     "execution_count": 10,
     "metadata": {},
     "output_type": "execute_result"
    }
   ],
   "source": [
    "numbers=list(range(1,50,2))\n",
    "numbers"
   ]
  },
  {
   "cell_type": "code",
   "execution_count": 11,
   "metadata": {},
   "outputs": [
    {
     "name": "stdout",
     "output_type": "stream",
     "text": [
      "3 hai dono mai!\n",
      "6 nhi hai\n",
      "9 hai dono mai!\n",
      "12 nhi hai\n",
      "15 hai dono mai!\n",
      "19 hai dono mai!\n",
      "20 nhi hai\n",
      "24 nhi hai\n",
      "27 hai dono mai!\n",
      "29 hai dono mai!\n",
      "3 hai dono mai!\n",
      "6 nhi hai\n",
      "9 hai dono mai!\n",
      "12 nhi hai\n",
      "15 hai dono mai!\n",
      "19 hai dono mai!\n",
      "20 nhi hai\n",
      "24 nhi hai\n",
      "27 hai dono mai!\n",
      "29 hai dono mai!\n"
     ]
    }
   ],
   "source": [
    "test=[3,6,9,12,15,19,20,24,27,29]\n",
    "for i in test:\n",
    "    if i in numbers:\n",
    "        print(str(i) + \" hai dono mai!\")\n",
    "    else:\n",
    "        print(str(i) + \" nhi hai\")\n",
    "     "
   ]
  },
  {
   "cell_type": "code",
   "execution_count": 12,
   "metadata": {},
   "outputs": [
    {
     "name": "stdout",
     "output_type": "stream",
     "text": [
      "$10\n",
      "$10\n"
     ]
    }
   ],
   "source": [
    "age=20\n",
    "if age<4:\n",
    "    print(\"free entry\")\n",
    "elif age>4 and age<18:\n",
    "    print(\"$5\")\n",
    "else:\n",
    "    print(\"$10\")"
   ]
  },
  {
   "cell_type": "code",
   "execution_count": 13,
   "metadata": {},
   "outputs": [
    {
     "name": "stdout",
     "output_type": "stream",
     "text": [
      "your admission cost is $5\n",
      "your admission cost is $5\n"
     ]
    }
   ],
   "source": [
    "age=65\n",
    "if age<5:\n",
    "    price=0\n",
    "elif age<18:\n",
    "    price=5\n",
    "elif age<65:\n",
    "    price=10\n",
    "else:\n",
    "    price=5\n",
    "    \n",
    "print(\"your admission cost is $\"+ str(price) )\n"
   ]
  },
  {
   "cell_type": "code",
   "execution_count": 14,
   "metadata": {},
   "outputs": [
    {
     "name": "stdout",
     "output_type": "stream",
     "text": [
      "Add mushrooms\n",
      "Add cheese\n",
      "\n",
      "FINISHED PREPARATION !! \n",
      "Add mushrooms\n",
      "Add cheese\n",
      "\n",
      "FINISHED PREPARATION !! \n"
     ]
    }
   ],
   "source": [
    "req_topping=[\"mushrooms\",\"cheese\"]\n",
    "if \"mushrooms\" in req_topping:\n",
    "    print(\"Add mushrooms\")\n",
    "if \"cheese\" in req_topping:\n",
    "    print(\"Add cheese\")\n",
    "if \"chilli\" in req_topping:\n",
    "    print(\"add chilli\")\n",
    "    \n",
    "print(\"\\nFINISHED PREPARATION !! \")"
   ]
  },
  {
   "cell_type": "code",
   "execution_count": 15,
   "metadata": {},
   "outputs": [],
   "source": [
    "alien_color=\"red\"\n",
    "if alien_color ==\"green\":\n",
    "    print(\"5 points\")"
   ]
  },
  {
   "cell_type": "code",
   "execution_count": 16,
   "metadata": {},
   "outputs": [
    {
     "name": "stdout",
     "output_type": "stream",
     "text": [
      "5 points\n",
      "5 points\n"
     ]
    }
   ],
   "source": [
    "alien_color=\"red\"\n",
    "if alien_color ==\"red\":\n",
    "    print(\"5 points\")\n"
   ]
  },
  {
   "cell_type": "code",
   "execution_count": 17,
   "metadata": {},
   "outputs": [
    {
     "name": "stdout",
     "output_type": "stream",
     "text": [
      "10 points!\n",
      "10 points!\n"
     ]
    }
   ],
   "source": [
    "alien_color=\"red\"\n",
    "if alien_color ==\"green\":\n",
    "    print(\"5 points\")\n",
    "else:\n",
    "    print(\"10 points!\")\n",
    "    "
   ]
  },
  {
   "cell_type": "code",
   "execution_count": 18,
   "metadata": {},
   "outputs": [
    {
     "name": "stdout",
     "output_type": "stream",
     "text": [
      "15 points !\n",
      "15 points !\n"
     ]
    }
   ],
   "source": [
    "alien_color=\"red\"\n",
    "if alien_color ==\"green\":\n",
    "    print(\"5 points\")\n",
    "elif alien_color==\"yellow\":\n",
    "    print(\"10 points!\")\n",
    "elif alien_color==\"red\":\n",
    "    print(\"15 points !\")"
   ]
  },
  {
   "cell_type": "code",
   "execution_count": 19,
   "metadata": {},
   "outputs": [
    {
     "name": "stdout",
     "output_type": "stream",
     "text": [
      "THE PERSON IS ADULT\n",
      "THE PERSON IS ADULT\n"
     ]
    }
   ],
   "source": [
    "age=20\n",
    "if age<2:\n",
    "    msg=\"baby\"\n",
    "elif age<4:\n",
    "    msg=\"toodler\"\n",
    "elif age<13:\n",
    "    msg=\"kid\"\n",
    "elif age<20:\n",
    "    msg=\"teenager\"\n",
    "elif age<65:\n",
    "    msg=\"adult\"\n",
    "else:\n",
    "    msg =\"elder\"\n",
    "    \n",
    "print(\"THE PERSON IS \" + msg.upper())"
   ]
  },
  {
   "cell_type": "code",
   "execution_count": 20,
   "metadata": {},
   "outputs": [
    {
     "name": "stdout",
     "output_type": "stream",
     "text": [
      "mango\n",
      "apple\n",
      "pears\n",
      "banana\n",
      "grape\n",
      "mango\n",
      "apple\n",
      "pears\n",
      "banana\n",
      "grape\n"
     ]
    }
   ],
   "source": [
    "fv_fruits=[\"mango\",\"apple\",\"pears\",\"banana\",\"grape\"]\n",
    "for i in fv_fruits:\n",
    "    print(i)"
   ]
  },
  {
   "cell_type": "code",
   "execution_count": 21,
   "metadata": {},
   "outputs": [
    {
     "name": "stdout",
     "output_type": "stream",
     "text": [
      "you really like apple\n",
      "you really like banana\n",
      "you really like grape\n",
      "you really like apple\n",
      "you really like banana\n",
      "you really like grape\n"
     ]
    }
   ],
   "source": [
    "favourite_fruits=[\"apple\",\"banana\",\"grape\"]\n",
    "for x in fv_fruits:\n",
    "    if x in favourite_fruits:\n",
    "        print(\"you really like \"+ x)"
   ]
  },
  {
   "cell_type": "code",
   "execution_count": 22,
   "metadata": {},
   "outputs": [
    {
     "name": "stdout",
     "output_type": "stream",
     "text": [
      "added mushrooms\n",
      "out of stock!!\n",
      "added extra cheese\n",
      "\n",
      "Finished making your pizza!\n",
      "added mushrooms\n",
      "out of stock!!\n",
      "added extra cheese\n",
      "\n",
      "Finished making your pizza!\n"
     ]
    }
   ],
   "source": [
    "requested_toppings=[\"mushrooms\",\"green peppers\",\"extra cheese\"]\n",
    "for requested_topping in requested_toppings:\n",
    "    if requested_topping==\"green peppers\":\n",
    "        print(\"out of stock!!\")\n",
    "    else:\n",
    "        print(\"added \"+   requested_topping)\n",
    "        \n",
    "print(\"\\nFinished making your pizza!\")"
   ]
  },
  {
   "cell_type": "code",
   "execution_count": 23,
   "metadata": {},
   "outputs": [
    {
     "name": "stdout",
     "output_type": "stream",
     "text": [
      "Hello drek , thankyou for looging inHello drek , thankyou for looging in\n",
      "Hello john , thankyou for looging in\n",
      "Hello vito , thankyou for looging in\n",
      "Hello marcus , thankyou for looging in\n",
      "HELLO ADMIN, WOULD YOU LIKE TO SEE STATUS REPORT?\n",
      "\n",
      "Hello john , thankyou for looging in\n",
      "Hello vito , thankyou for looging in\n",
      "Hello marcus , thankyou for looging in\n",
      "HELLO ADMIN, WOULD YOU LIKE TO SEE STATUS REPORT?\n"
     ]
    }
   ],
   "source": [
    "names=[\"drek\",\"john\",\"vito\",\"marcus\",\"admin\"]\n",
    "for i in names:\n",
    "    if i==\"admin\":\n",
    "        print(\"HELLO ADMIN, WOULD YOU LIKE TO SEE STATUS REPORT?\")\n",
    "    else:\n",
    "        print(\"Hello \" +i+\" , thankyou for looging in\")"
   ]
  },
  {
   "cell_type": "code",
   "execution_count": 31,
   "metadata": {},
   "outputs": [
    {
     "name": "stdout",
     "output_type": "stream",
     "text": [
      "no names!\n",
      "no names!\n"
     ]
    }
   ],
   "source": [
    "names=[]\n",
    "x=len(names)\n",
    "if x==0:\n",
    "    print(\"no names!\")\n"
   ]
  },
  {
   "cell_type": "code",
   "execution_count": 35,
   "metadata": {},
   "outputs": [
    {
     "name": "stdout",
     "output_type": "stream",
     "text": [
      "['adjuricator', 'john', 'viggo', 'marcus', 'winston']\n",
      "['Adjuricator', 'John', 'Viggo', 'Marcus', 'Winston']\n",
      "['John', 'winston', 'sharon', 'bowry king']\n",
      "['John', 'Winston', 'Sharon', 'Bowry King']\n",
      "['adjuricator', 'john', 'viggo', 'marcus', 'winston']\n",
      "['Adjuricator', 'John', 'Viggo', 'Marcus', 'Winston']\n",
      "['John', 'winston', 'sharon', 'bowry king']\n",
      "['John', 'Winston', 'Sharon', 'Bowry King']\n"
     ]
    }
   ],
   "source": [
    "current_users=[\"adjuricator\",\"john\",\"viggo\",\"marcus\",\"winston\"]\n",
    "off_current_users=[x.title() for x in current_users]\n",
    "new_users=[\"John\",\"winston\",\"sharon\",\"bowry king\"]\n",
    "off_new_users=[y.title() for y in new_users]\n",
    "\n",
    "print(current_users)\n",
    "print(off_current_users)\n",
    "print(new_users)\n",
    "print(off_new_users)\n",
    "\n",
    "\n",
    "    "
   ]
  },
  {
   "cell_type": "code",
   "execution_count": 36,
   "metadata": {},
   "outputs": [
    {
     "name": "stdout",
     "output_type": "stream",
     "text": [
      "Usename John unavailable. Enter a new username \n",
      "Usename Winston unavailable. Enter a new username \n",
      "username Sharon available!\n",
      "username Bowry King available!\n",
      "Usename John unavailable. Enter a new username \n",
      "Usename Winston unavailable. Enter a new username \n",
      "username Sharon available!\n",
      "username Bowry King available!\n"
     ]
    }
   ],
   "source": [
    "for i in off_new_users:\n",
    "    if i in off_current_users:\n",
    "        print(\"Usename \" + i +\" unavailable. Enter a new username \")\n",
    "    else:\n",
    "        print(\"username \"+ i +\" available!\")"
   ]
  },
  {
   "cell_type": "code",
   "execution_count": 37,
   "metadata": {},
   "outputs": [],
   "source": [
    "numbers=list(range(1,10))"
   ]
  },
  {
   "cell_type": "code",
   "execution_count": 39,
   "metadata": {},
   "outputs": [
    {
     "data": {
      "text/plain": [
       "[1, 2, 3, 4, 5, 6, 7, 8, 9]"
      ]
     },
     "execution_count": 39,
     "metadata": {},
     "output_type": "execute_result"
    },
    {
     "data": {
      "text/plain": [
       "[1, 2, 3, 4, 5, 6, 7, 8, 9]"
      ]
     },
     "execution_count": 39,
     "metadata": {},
     "output_type": "execute_result"
    }
   ],
   "source": [
    "numbers"
   ]
  },
  {
   "cell_type": "code",
   "execution_count": 43,
   "metadata": {},
   "outputs": [
    {
     "name": "stdout",
     "output_type": "stream",
     "text": [
      "1st\n",
      "2nd\n",
      "3rd\n",
      "4th\n",
      "5th\n",
      "6th\n",
      "7th\n",
      "8th\n",
      "9th\n",
      "1st\n",
      "2nd\n",
      "3rd\n",
      "4th\n",
      "5th\n",
      "6th\n",
      "7th\n",
      "8th\n",
      "9th\n"
     ]
    }
   ],
   "source": [
    "for i in numbers:\n",
    "    if i==1:\n",
    "        print(str(i)+\"st\")\n",
    "    elif i==2:\n",
    "        print(str(i)+\"nd\")\n",
    "    elif i==3:\n",
    "        print(str(i)+\"rd\")\n",
    "    else:\n",
    "        print(str(i)+\"th\")"
   ]
  },
  {
   "cell_type": "code",
   "execution_count": null,
   "metadata": {},
   "outputs": [],
   "source": []
  }
 ],
 "metadata": {
  "kernelspec": {
   "display_name": "Python 3",
   "language": "python",
   "name": "python3"
  },
  "language_info": {
   "codemirror_mode": {
    "name": "ipython",
    "version": 3
   },
   "file_extension": ".py",
   "mimetype": "text/x-python",
   "name": "python",
   "nbconvert_exporter": "python",
   "pygments_lexer": "ipython3",
   "version": "3.7.1"
  }
 },
 "nbformat": 4,
 "nbformat_minor": 2
}

{
 "cells": [
  {
   "cell_type": "markdown",
   "metadata": {},
   "source": [
    " CHAPTER 7 : USERINPUT AND WHILE LOOPS"
   ]
  },
  {
   "cell_type": "code",
   "execution_count": 1,
   "metadata": {},
   "outputs": [
    {
     "name": "stdout",
     "output_type": "stream",
     "text": [
      "tellme something and i'll repeat it back to you:yo\n",
      "yo\n"
     ]
    }
   ],
   "source": [
    "message=input(\"tellme something and i'll repeat it back to you:\")\n",
    "print(message)"
   ]
  },
  {
   "cell_type": "code",
   "execution_count": 2,
   "metadata": {},
   "outputs": [
    {
     "name": "stdout",
     "output_type": "stream",
     "text": [
      "pleaseenter your name:ozil\n",
      "hello Ozil !\n"
     ]
    }
   ],
   "source": [
    "name=input(\"pleaseenter your name:\")\n",
    "print(\"hello \" +name.title()+\" !\")"
   ]
  },
  {
   "cell_type": "code",
   "execution_count": 3,
   "metadata": {},
   "outputs": [
    {
     "name": "stdout",
     "output_type": "stream",
     "text": [
      "If you teel us who you are your feed will be personalized\n",
      "What's your name?ozil\n",
      "Hello ozil\n"
     ]
    }
   ],
   "source": [
    "#multiline prompt\n",
    "prompt=\"If you teel us who you are your feed will be personalized\"\n",
    "prompt+=\"\\nWhat's your name?\"\n",
    "name=input(prompt)\n",
    "print(\"Hello \"+ name)"
   ]
  },
  {
   "cell_type": "code",
   "execution_count": 4,
   "metadata": {},
   "outputs": [
    {
     "name": "stdout",
     "output_type": "stream",
     "text": [
      "how old are you? 6\n"
     ]
    }
   ],
   "source": [
    "age=input(\"how old are you? \")\n",
    "age=int(age)\n",
    "if age>=18:\n",
    "    print(\"you are an adult!\")"
   ]
  },
  {
   "cell_type": "code",
   "execution_count": 5,
   "metadata": {},
   "outputs": [
    {
     "name": "stdout",
     "output_type": "stream",
     "text": [
      "Enter a number and i will tell you if its even or odd:6\n",
      "the number 6 is EVEN!\n"
     ]
    }
   ],
   "source": [
    "# modulo operator\n",
    "#test for even or odd\n",
    "number=input(\"Enter a number and i will tell you if its even or odd:\")\n",
    "number=int(number)\n",
    "if number % 2==0:\n",
    "    print(\"the number \"+str(number)+\" is EVEN!\")\n",
    "else:\n",
    "    print(\"the number \"+str(number)+\" is ODD!\")"
   ]
  },
  {
   "cell_type": "code",
   "execution_count": 6,
   "metadata": {},
   "outputs": [
    {
     "name": "stdout",
     "output_type": "stream",
     "text": [
      "what kinda car would you like: bmw\n",
      "Let me see if Ican find you a bmw\n"
     ]
    }
   ],
   "source": [
    "# 7.1\n",
    "car=input(\"what kinda car would you like: \")\n",
    "print(\"Let me see if Ican find you a \" +car)"
   ]
  },
  {
   "cell_type": "code",
   "execution_count": 7,
   "metadata": {},
   "outputs": [
    {
     "name": "stdout",
     "output_type": "stream",
     "text": [
      "how many people? 9\n",
      "you will have to wait\n"
     ]
    }
   ],
   "source": [
    "# 7.2\n",
    "people=input(\"how many people? \")\n",
    "if int(people)>8:\n",
    "    print(\"you will have to wait\")\n",
    "else:\n",
    "    print(\"tablue is ready!!\")"
   ]
  },
  {
   "cell_type": "code",
   "execution_count": 8,
   "metadata": {},
   "outputs": [
    {
     "name": "stdout",
     "output_type": "stream",
     "text": [
      "ENTER A NUMBER WHOSE DIVISIBILTY BY 10 YOU HAVE TO CHECK 69\n",
      "The number 69 is divisible NOT by 10!\n"
     ]
    }
   ],
   "source": [
    "#7.3\n",
    "number=input(\"ENTER A NUMBER WHOSE DIVISIBILTY BY 10 YOU HAVE TO CHECK \")\n",
    "if int(number)%10==0:\n",
    "    print(\"The number \"+str(number)+\" is divisible by 10!\")\n",
    "else:\n",
    "    print(\"The number \"+str(number)+\" is divisible NOT by 10!\")"
   ]
  },
  {
   "cell_type": "code",
   "execution_count": 9,
   "metadata": {},
   "outputs": [
    {
     "name": "stdout",
     "output_type": "stream",
     "text": [
      "1\n",
      "2\n",
      "3\n",
      "4\n",
      "5\n"
     ]
    }
   ],
   "source": [
    "#while loop\n",
    "number=1\n",
    "while number<=5:\n",
    "    print(number)\n",
    "    number+=1"
   ]
  },
  {
   "cell_type": "code",
   "execution_count": 10,
   "metadata": {},
   "outputs": [
    {
     "name": "stdout",
     "output_type": "stream",
     "text": [
      "\n",
      "Tell me something and i will repeat it\n",
      "Enter 'quit' to end gameheelo\n",
      "heelo\n",
      "\n",
      "Tell me something and i will repeat it\n",
      "Enter 'quit' to end gameman\n",
      "man\n",
      "\n",
      "Tell me something and i will repeat it\n",
      "Enter 'quit' to end gamequit\n",
      "quit\n"
     ]
    }
   ],
   "source": [
    "prompt=\"\\nTell me something and i will repeat it\"\n",
    "prompt+=\"\\nEnter 'quit' to end game\"\n",
    "message=''\n",
    "while message != 'quit':\n",
    "    message=input(prompt)\n",
    "    print(message)"
   ]
  },
  {
   "cell_type": "code",
   "execution_count": 11,
   "metadata": {},
   "outputs": [
    {
     "name": "stdout",
     "output_type": "stream",
     "text": [
      "\n",
      "Tell me something and i will repeat it\n",
      "Enter 'quit' to end game this\n",
      "this\n",
      "\n",
      "Tell me something and i will repeat it\n",
      "Enter 'quit' to end game is cool\n",
      "is cool\n",
      "\n",
      "Tell me something and i will repeat it\n",
      "Enter 'quit' to end game quit\n"
     ]
    }
   ],
   "source": [
    "#fix quit\n",
    "prompt=\"\\nTell me something and i will repeat it\"\n",
    "prompt+=\"\\nEnter 'quit' to end game \"\n",
    "message=''\n",
    "while message != 'quit':\n",
    "    message=input(prompt)\n",
    "    if message!='quit':\n",
    "        print(message)"
   ]
  },
  {
   "cell_type": "code",
   "execution_count": 12,
   "metadata": {},
   "outputs": [
    {
     "name": "stdout",
     "output_type": "stream",
     "text": [
      "\n",
      "Tell me something and i will repeat it\n",
      "Enter 'quit' to end gameok\n",
      "ok\n",
      "\n",
      "Tell me something and i will repeat it\n",
      "Enter 'quit' to end gamenice\n",
      "nice\n",
      "\n",
      "Tell me something and i will repeat it\n",
      "Enter 'quit' to end gamequit\n"
     ]
    }
   ],
   "source": [
    "#using FLAGS\n",
    "prompt=\"\\nTell me something and i will repeat it\"\n",
    "prompt+=\"\\nEnter 'quit' to end game\"\n",
    "active=True\n",
    "while active:\n",
    "    message=input(prompt)\n",
    "    if message==\"quit\":\n",
    "        active=False\n",
    "    else:    \n",
    "        print(message)"
   ]
  },
  {
   "cell_type": "code",
   "execution_count": 13,
   "metadata": {},
   "outputs": [
    {
     "name": "stdout",
     "output_type": "stream",
     "text": [
      "\n",
      "ENTER THE PLACES YOU WISH TO VISIT\n",
      "PRESS 'QUIT' TO END vwnice\n",
      "i would love to go to Vwnice\n",
      "\n",
      "ENTER THE PLACES YOU WISH TO VISIT\n",
      "PRESS 'QUIT' TO END rwanda\n",
      "i would love to go to Rwanda\n",
      "\n",
      "ENTER THE PLACES YOU WISH TO VISIT\n",
      "PRESS 'QUIT' TO END quit\n"
     ]
    }
   ],
   "source": [
    "#break\n",
    "prompt=\"\\nENTER THE PLACES YOU WISH TO VISIT\"\n",
    "prompt+=\"\\nPRESS 'QUIT' TO END \"\n",
    "while True:\n",
    "    city=input(prompt)\n",
    "    if city==\"quit\":\n",
    "        break\n",
    "    else:\n",
    "        print(\"i would love to go to \"+city.title())"
   ]
  },
  {
   "cell_type": "code",
   "execution_count": 14,
   "metadata": {},
   "outputs": [
    {
     "name": "stdout",
     "output_type": "stream",
     "text": [
      "1\n",
      "3\n",
      "5\n",
      "7\n",
      "9\n",
      "11\n"
     ]
    }
   ],
   "source": [
    "#continue\n",
    "#counting odd numbers from 1 to 10\n",
    "number=0\n",
    "while number<=10:\n",
    "    number+=1\n",
    "    if number%2==0:\n",
    "        continue\n",
    "    print(number)"
   ]
  },
  {
   "cell_type": "code",
   "execution_count": 15,
   "metadata": {},
   "outputs": [
    {
     "name": "stdout",
     "output_type": "stream",
     "text": [
      "\n",
      "Enter toppings :\n",
      "(enter 'quit' to finish)pepperoni\n"
     ]
    },
    {
     "ename": "KeyboardInterrupt",
     "evalue": "",
     "output_type": "error",
     "traceback": [
      "\u001b[1;31m---------------------------------------------------------------------------\u001b[0m",
      "\u001b[1;31mKeyboardInterrupt\u001b[0m                         Traceback (most recent call last)",
      "\u001b[1;32m<ipython-input-15-6891b726081a>\u001b[0m in \u001b[0;36m<module>\u001b[1;34m\u001b[0m\n\u001b[0;32m      7\u001b[0m         \u001b[1;32mbreak\u001b[0m\u001b[1;33m\u001b[0m\u001b[1;33m\u001b[0m\u001b[0m\n\u001b[0;32m      8\u001b[0m     \u001b[1;32melse\u001b[0m\u001b[1;33m:\u001b[0m\u001b[1;33m\u001b[0m\u001b[1;33m\u001b[0m\u001b[0m\n\u001b[1;32m----> 9\u001b[1;33m         \u001b[1;33m(\u001b[0m\u001b[0mtoppings\u001b[0m\u001b[1;33m+\u001b[0m\u001b[1;34m\" added to your pizza!\"\u001b[0m\u001b[1;33m)\u001b[0m\u001b[1;33m\u001b[0m\u001b[1;33m\u001b[0m\u001b[0m\n\u001b[0m\u001b[0;32m     10\u001b[0m \u001b[1;33m\u001b[0m\u001b[0m\n\u001b[0;32m     11\u001b[0m \u001b[0mprint\u001b[0m\u001b[1;33m(\u001b[0m\u001b[1;34m\"ENJOY!\"\u001b[0m\u001b[1;33m)\u001b[0m\u001b[1;33m\u001b[0m\u001b[1;33m\u001b[0m\u001b[0m\n",
      "\u001b[1;31mKeyboardInterrupt\u001b[0m: "
     ]
    }
   ],
   "source": [
    "#7.4\n",
    "prompt=\"\\nEnter toppings :\"\n",
    "prompt+=\"\\n(enter 'quit' to finish)\"\n",
    "toppings=input(prompt)\n",
    "while True:\n",
    "    if toppings=='quit':\n",
    "        break\n",
    "    else:\n",
    "        (toppings+\" added to your pizza!\")\n",
    "    \n",
    "print(\"ENJOY!\")"
   ]
  },
  {
   "cell_type": "code",
   "execution_count": 21,
   "metadata": {},
   "outputs": [
    {
     "name": "stdout",
     "output_type": "stream",
     "text": [
      "enter your age: \n",
      " (enter 'quit' to exit)6\n",
      "you need to pay $10\n",
      "enter your age: \n",
      " (enter 'quit' to exit)2\n",
      "you need to pay $0\n",
      "enter your age: \n",
      " (enter 'quit' to exit)55\n",
      "you need to pay $15\n",
      "enter your age: \n",
      " (enter 'quit' to exit)quit\n"
     ]
    }
   ],
   "source": [
    "\n",
    "\n",
    "while True:\n",
    "    age=input(\"enter your age: \\n (enter 'quit' to exit)\")\n",
    "    if age=='quit':\n",
    "        break\n",
    "    \n",
    "    age=int(age)\n",
    "    if age<3:\n",
    "        x=0\n",
    "    elif age<12:\n",
    "        x=10\n",
    "    else:\n",
    "        x=15\n",
    "    print(\"you need to pay $\"+ str(x))\n",
    "    \n",
    "    \n",
    " "
   ]
  },
  {
   "cell_type": "code",
   "execution_count": 24,
   "metadata": {},
   "outputs": [
    {
     "name": "stdout",
     "output_type": "stream",
     "text": [
      "enter your age: \n",
      " (enter 'quit' to exit)6\n",
      "you need to pay $10\n",
      "enter your age: \n",
      " (enter 'quit' to exit)2\n",
      "you need to pay $0\n",
      "enter your age: \n",
      " (enter 'quit' to exit)quit\n"
     ]
    }
   ],
   "source": [
    "#7.6\n",
    "active=True\n",
    "while active:\n",
    "    age=input(\"enter your age: \\n (enter 'quit' to exit)\")\n",
    "    if age=='quit':\n",
    "        active=False\n",
    "    else:\n",
    "        age=int(age)\n",
    "        if age<3:\n",
    "            x=0\n",
    "        elif age<12:\n",
    "            x=10\n",
    "        else:\n",
    "            x=15\n",
    "        print(\"you need to pay $\"+ str(x))\n",
    "    \n",
    "    "
   ]
  },
  {
   "cell_type": "code",
   "execution_count": 27,
   "metadata": {},
   "outputs": [
    {
     "name": "stdout",
     "output_type": "stream",
     "text": [
      "verifying user: Pepe\n",
      "verifying user: Laca\n",
      "verifying user: Auba\n",
      "the following users have been confirmed:\n",
      "Pepe\n",
      "Laca\n",
      "Auba\n"
     ]
    }
   ],
   "source": [
    "unconfirmed_users=[\"auba\",\"laca\",\"pepe\"]\n",
    "confirmed_users=[]\n",
    "while unconfirmed_users:\n",
    "    current_user=unconfirmed_users.pop()\n",
    "    print(\"verifying user: \"+current_user.title())\n",
    "    confirmed_users.append(current_user)\n",
    "print(\"the following users have been confirmed:\")\n",
    "for i in confirmed_users:\n",
    "    print(i.title())"
   ]
  },
  {
   "cell_type": "code",
   "execution_count": 29,
   "metadata": {},
   "outputs": [
    {
     "name": "stdout",
     "output_type": "stream",
     "text": [
      "['cat', 'rabbit']\n"
     ]
    }
   ],
   "source": [
    "pets=[\"dog\",\"cat\",\"dog\",\"rabbit\"]\n",
    "while \"dog\" in pets:\n",
    "    pets.remove(\"dog\")\n",
    "print(pets)    "
   ]
  },
  {
   "cell_type": "code",
   "execution_count": 31,
   "metadata": {},
   "outputs": [
    {
     "name": "stdout",
     "output_type": "stream",
     "text": [
      "Enter your name: auba\n",
      "which country do you belong:gabon\n",
      "would you reccomend anyone else to take the test?(yes/no)yes\n",
      "Enter your name: laca\n",
      "which country do you belong:france\n",
      "would you reccomend anyone else to take the test?(yes/no)yes\n",
      "Enter your name: ozil\n",
      "which country do you belong:germany\n",
      "would you reccomend anyone else to take the test?(yes/no)no\n",
      "{'auba': 'gabon', 'laca': 'france', 'ozil': 'germany'}\n",
      "\n",
      "Poll results:\n",
      "auba is from gabon\n",
      "laca is from france\n",
      "ozil is from germany\n"
     ]
    }
   ],
   "source": [
    "responses={}\n",
    "active=True\n",
    "while active:\n",
    "    name=input(\"Enter your name: \")\n",
    "    poll=input(\"which country do you belong:\")\n",
    "    \n",
    "    responses[name]=poll\n",
    "    \n",
    "    repeat=input(\"would you reccomend anyone else to take the test?(yes/no)\")\n",
    "    if repeat==\"no\":\n",
    "        active=False\n",
    "print(responses)\n",
    "print(\"\\nPoll results:\")\n",
    "for name,poll in responses.items():\n",
    "    print(name +\" is from \"+ poll)"
   ]
  },
  {
   "cell_type": "code",
   "execution_count": 40,
   "metadata": {},
   "outputs": [
    {
     "name": "stdout",
     "output_type": "stream",
     "text": [
      "i am making big\n",
      "i am making small\n",
      "i am making potato\n",
      "i am making choco chip\n",
      "completed big\n",
      "completed small\n",
      "completed potato\n",
      "completed choco chip\n"
     ]
    }
   ],
   "source": [
    "#7.8 \n",
    "sandwich_orders=[\"big\",\"small\",\"potato\",\"choco chip\"]\n",
    "finished_sandwiches=[]\n",
    "while sandwich_orders:\n",
    "    x=sandwich_orders.pop(0)\n",
    "    finished_sandwiches.append(x)\n",
    "    print(\"i am making \"+x)\n",
    "for i in finished_sandwiches:\n",
    "    print(\"completed \"+i)"
   ]
  },
  {
   "cell_type": "code",
   "execution_count": 43,
   "metadata": {},
   "outputs": [
    {
     "name": "stdout",
     "output_type": "stream",
     "text": [
      "deli has run ouy of pastrami\n",
      "i am making big\n",
      "i am making small\n",
      "i am making potato\n",
      "i am making choco chip\n",
      "completed big\n",
      "completed small\n",
      "completed potato\n",
      "completed choco chip\n"
     ]
    }
   ],
   "source": [
    "#7.9\n",
    "sandwich_orders=[\"big\",\"small\",\"potato\",\"choco chip\",\"pastrami\",\"pastrami\",\"pastrami\"]\n",
    "finished_sandwiches=[]\n",
    "print(\"deli has run ouy of pastrami\")\n",
    "while \"pastrami\" in sandwich_orders:\n",
    "    sandwich_orders.remove(\"pastrami\")\n",
    "    \n",
    "while sandwich_orders:\n",
    "    x=sandwich_orders.pop(0)\n",
    "    finished_sandwiches.append(x)\n",
    "    print(\"i am making \"+x)\n",
    "for i in finished_sandwiches:\n",
    "    print(\"completed \"+i)"
   ]
  },
  {
   "cell_type": "code",
   "execution_count": null,
   "metadata": {},
   "outputs": [],
   "source": []
  }
 ],
 "metadata": {
  "kernelspec": {
   "display_name": "Python 3",
   "language": "python",
   "name": "python3"
  },
  "language_info": {
   "codemirror_mode": {
    "name": "ipython",
    "version": 3
   },
   "file_extension": ".py",
   "mimetype": "text/x-python",
   "name": "python",
   "nbconvert_exporter": "python",
   "pygments_lexer": "ipython3",
   "version": "3.7.1"
  }
 },
 "nbformat": 4,
 "nbformat_minor": 2
}

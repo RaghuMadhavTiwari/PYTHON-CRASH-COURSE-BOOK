{
 "cells": [
  {
   "cell_type": "markdown",
   "metadata": {},
   "source": [
    "CHAPTER 8: FUNCTIONS"
   ]
  },
  {
   "cell_type": "code",
   "execution_count": 1,
   "metadata": {},
   "outputs": [
    {
     "name": "stdout",
     "output_type": "stream",
     "text": [
      "Hello, Mikel\n"
     ]
    }
   ],
   "source": [
    "def greet_user(username):\n",
    "    \"\"\"Dispaly a somple greeting(this is called a docstring)\"\"\"\n",
    "    print(\"Hello, \"+username.title())\n",
    "greet_user(\"mikel\")"
   ]
  },
  {
   "cell_type": "code",
   "execution_count": 2,
   "metadata": {},
   "outputs": [
    {
     "name": "stdout",
     "output_type": "stream",
     "text": [
      "we are learning about functions in this chapter !\n"
     ]
    }
   ],
   "source": [
    "# 8.1\n",
    "def display_message():\n",
    "    print(\"we are learning about functions in this chapter !\")\n",
    "\n",
    "display_message()"
   ]
  },
  {
   "cell_type": "code",
   "execution_count": 3,
   "metadata": {},
   "outputs": [
    {
     "name": "stdout",
     "output_type": "stream",
     "text": [
      "one of my fav books is alice in wonderland\n",
      "one of my fav books is godam\n"
     ]
    }
   ],
   "source": [
    "# 8.2\n",
    "def fav_books(title):\n",
    "    print(\"one of my fav books is \"+title)\n",
    "fav_books(\"alice in wonderland\")\n",
    "fav_books(\"godam\")"
   ]
  },
  {
   "cell_type": "code",
   "execution_count": 4,
   "metadata": {},
   "outputs": [
    {
     "name": "stdout",
     "output_type": "stream",
     "text": [
      "i have a beagle whose name is Oliver\n"
     ]
    }
   ],
   "source": [
    "# positional arguments\n",
    "def describe_pet(animal_type,pet_name):\n",
    "    print(\"i have a \" + animal_type + \" whose name is \" + pet_name.title())\n",
    "    \n",
    "describe_pet(\"beagle\",\"oliver\")"
   ]
  },
  {
   "cell_type": "code",
   "execution_count": 5,
   "metadata": {},
   "outputs": [
    {
     "name": "stdout",
     "output_type": "stream",
     "text": [
      "i have a dog whose name is Oliver\n"
     ]
    }
   ],
   "source": [
    "#keyword argumets\n",
    "\"\"\"no need to worry about order of positional arguments\"\"\"\n",
    "def describe_pet(animal_type,pet_name):\n",
    "    print(\"i have a \" + animal_type + \" whose name is \" + pet_name.title())\n",
    "    \n",
    "describe_pet(pet_name=\"oliver\",animal_type=\"dog\")"
   ]
  },
  {
   "cell_type": "code",
   "execution_count": 6,
   "metadata": {},
   "outputs": [
    {
     "name": "stdout",
     "output_type": "stream",
     "text": [
      "i have a dog whose name is Oliver\n",
      "i have a dog whose name is Oliver\n"
     ]
    }
   ],
   "source": [
    "#default arguments\n",
    "\"\"\"default programs are last arguments\"\"\"\n",
    "def describe_pet(pet_name,animal_type=\"dog\"):\n",
    "    print(\"i have a \" + animal_type + \" whose name is \" + pet_name.title())\n",
    "    \n",
    "describe_pet(\"oliver\")\n",
    "describe_pet(pet_name=\"oliver\")"
   ]
  },
  {
   "cell_type": "code",
   "execution_count": 7,
   "metadata": {},
   "outputs": [
    {
     "name": "stdout",
     "output_type": "stream",
     "text": [
      "i have a cat whose name is Laura\n"
     ]
    }
   ],
   "source": [
    "describe_pet(\"laura\",\"cat\")"
   ]
  },
  {
   "cell_type": "code",
   "execution_count": 8,
   "metadata": {},
   "outputs": [
    {
     "name": "stdout",
     "output_type": "stream",
     "text": [
      "the shirt has size: XXL\n",
      "text to be printed on shirt: I'm fat \n"
     ]
    }
   ],
   "source": [
    "# 8.3\n",
    "def make_shirt(shirt_size,text):\n",
    "    print(\"the shirt has size: \"+shirt_size)\n",
    "    print(\"text to be printed on shirt: \"+text)\n",
    "    \n",
    "make_shirt(\"XXL\",\"I'm fat \")"
   ]
  },
  {
   "cell_type": "code",
   "execution_count": 9,
   "metadata": {},
   "outputs": [
    {
     "name": "stdout",
     "output_type": "stream",
     "text": [
      "the shirt has size: Large\n",
      "text to be printed on shirt: I'm not that fat .\n",
      "\n",
      "the shirt has size: M\n",
      "text to be printed on shirt: I'm healthy.\n",
      "\n",
      "the shirt has size: small\n",
      "text to be printed on shirt: i need food.\n",
      "\n"
     ]
    }
   ],
   "source": [
    "# 8.4\n",
    "def make_shirt(shirt_size=\"Large\",text=\"I love python\"):\n",
    "    print(\"the shirt has size: \"+shirt_size)\n",
    "    print(\"text to be printed on shirt: \"+text+\".\\n\")\n",
    "    \n",
    "make_shirt(text=\"I'm not that fat \")\n",
    "make_shirt(\"M\",\"I'm healthy\")\n",
    "make_shirt(\"small\",\"i need food\")"
   ]
  },
  {
   "cell_type": "code",
   "execution_count": 10,
   "metadata": {},
   "outputs": [
    {
     "name": "stdout",
     "output_type": "stream",
     "text": [
      "Mesut Ozil\n"
     ]
    }
   ],
   "source": [
    "# return values\n",
    "def formatted_name(first_name,last_name):\n",
    "    full_name=first_name+\" \"+last_name\n",
    "    return full_name.title()\n",
    "no_10=formatted_name(\"mesut\",\"ozil\")\n",
    "print(no_10)"
   ]
  },
  {
   "cell_type": "code",
   "execution_count": 11,
   "metadata": {},
   "outputs": [
    {
     "name": "stdout",
     "output_type": "stream",
     "text": [
      "Mesut Ozil\n",
      "Pierre Emrick Aubameyang\n"
     ]
    }
   ],
   "source": [
    "#optional arguments\n",
    "def formatted_name(first_name,last_name,middle_name=''):\n",
    "    if middle_name:\n",
    "        full_name=first_name+' '+middle_name+' '+last_name\n",
    "    else:\n",
    "        full_name=first_name+' '+last_name\n",
    "    return full_name.title()\n",
    "no_10=formatted_name(\"mesut\",\"ozil\")\n",
    "print(no_10)\n",
    "no_14=formatted_name(first_name=\"pierre\",middle_name=\"emrick\",last_name=\"aubameyang\")\n",
    "print(no_14)"
   ]
  },
  {
   "cell_type": "code",
   "execution_count": 12,
   "metadata": {},
   "outputs": [
    {
     "data": {
      "text/plain": [
       "{'first': 'mikel', 'last': 'arteta'}"
      ]
     },
     "execution_count": 12,
     "metadata": {},
     "output_type": "execute_result"
    }
   ],
   "source": [
    "def build_person(first_name,last_name):\n",
    "    person={\"first\":first_name,\"last\":last_name}\n",
    "    return person\n",
    "build_person(\"mikel\",\"arteta\")"
   ]
  },
  {
   "cell_type": "code",
   "execution_count": 13,
   "metadata": {},
   "outputs": [
    {
     "data": {
      "text/plain": [
       "{'first': 'mikel', 'last': 'arteta', 'age': '22'}"
      ]
     },
     "execution_count": 13,
     "metadata": {},
     "output_type": "execute_result"
    }
   ],
   "source": [
    "def build_person(first_name,last_name,age=''):\n",
    "    if age:\n",
    "        person={\"first\":first_name,\"last\":last_name,\"age\":age}\n",
    "    else:\n",
    "        person={\"first\":first_name,\"last\":last_name}\n",
    "    return person\n",
    "build_person(\"mikel\",\"arteta\",\"22\")"
   ]
  },
  {
   "cell_type": "code",
   "execution_count": 14,
   "metadata": {},
   "outputs": [
    {
     "data": {
      "text/plain": [
       "{'first': 'mikel', 'last': 'arteta'}"
      ]
     },
     "execution_count": 14,
     "metadata": {},
     "output_type": "execute_result"
    }
   ],
   "source": [
    "#or\n",
    "def build_person(first_name,last_name,age=''):\n",
    "    person={\"first\":first_name,\"last\":last_name}\n",
    "    if age:\n",
    "        person[\"age\"]=age\n",
    "    \n",
    "    return person\n",
    "build_person(\"mikel\",\"arteta\")"
   ]
  },
  {
   "cell_type": "code",
   "execution_count": 15,
   "metadata": {},
   "outputs": [
    {
     "data": {
      "text/plain": [
       "{'first': 'mikel', 'last': 'arteta', 'age': '22'}"
      ]
     },
     "execution_count": 15,
     "metadata": {},
     "output_type": "execute_result"
    }
   ],
   "source": [
    "build_person(\"mikel\",\"arteta\",\"22\")"
   ]
  },
  {
   "cell_type": "code",
   "execution_count": 16,
   "metadata": {},
   "outputs": [
    {
     "data": {
      "text/plain": [
       "{'first': 'mikel', 'last': 'arteta', 'age': 22}"
      ]
     },
     "execution_count": 16,
     "metadata": {},
     "output_type": "execute_result"
    }
   ],
   "source": [
    "#or\n",
    "def build_person(first_name,last_name,age=''):\n",
    "    person={\"first\":first_name,\"last\":last_name}\n",
    "    if age:\n",
    "        person[\"age\"]=int(age)\n",
    "    \n",
    "    return person\n",
    "build_person(\"mikel\",\"arteta\",\"22\")"
   ]
  },
  {
   "cell_type": "code",
   "execution_count": 17,
   "metadata": {},
   "outputs": [
    {
     "name": "stdout",
     "output_type": "stream",
     "text": [
      "\n",
      "Please tell me your name:\n",
      "\n",
      "press 'q' to exit!!!!!\n",
      "Enter yout first name: mikel\n",
      "Enter yout last name: arteta\n",
      "helloo, Mikel Arteta\n",
      "\n",
      "Please tell me your name:\n",
      "\n",
      "press 'q' to exit!!!!!\n",
      "Enter yout first name: q\n"
     ]
    }
   ],
   "source": [
    "def get_formatted_name(first_name,last_name):\n",
    "    full_name=first_name+\" \"+last_name\n",
    "    return full_name.title()\n",
    "while True:\n",
    "    print(\"\\nPlease tell me your name:\")\n",
    "    print(\"\\npress 'q' to exit!!!!!\")\n",
    "    f_name=input(\"Enter yout first name: \")\n",
    "    if f_name=='q':\n",
    "        break\n",
    "        \n",
    "    l_name=input(\"Enter yout last name: \")\n",
    "    if l_name=='q':\n",
    "            break\n",
    "    formatted_name=get_formatted_name(f_name,l_name)\n",
    "    print(\"helloo, \"+ formatted_name)"
   ]
  },
  {
   "cell_type": "code",
   "execution_count": 18,
   "metadata": {},
   "outputs": [
    {
     "name": "stdout",
     "output_type": "stream",
     "text": [
      "{'artist name': 'Eminem', 'album name': 'Slim Shady'}\n",
      "{'artist name': 'Coldplay', 'album name': 'Head Full Of Stars'}\n",
      "{'artist name': 'Imagine Dragons', 'album name': 'Demons'}\n"
     ]
    }
   ],
   "source": [
    "# 8.7\n",
    "def make_album(artist_name,album_name):\n",
    "    album_details={\"artist name\":artist_name.title(),\"album name\":album_name.title()}\n",
    "    print(album_details)\n",
    "make_album(\"eminem\",\"slim shady\")\n",
    "make_album(\"coldplay\",\"head full of stars\")\n",
    "make_album(\"imagine dragons\",\"demons\")"
   ]
  },
  {
   "cell_type": "code",
   "execution_count": 19,
   "metadata": {},
   "outputs": [
    {
     "name": "stdout",
     "output_type": "stream",
     "text": [
      "{'artist name': 'Eminem', 'album name': 'Slim Shady', 'no_of_tracks': 5}\n",
      "{'artist name': 'Coldplay', 'album name': 'Head Full Of Stars', 'no_of_tracks': 4}\n",
      "{'artist name': 'Imagine Dragons', 'album name': 'Demons'}\n"
     ]
    }
   ],
   "source": [
    "def make_album(artist_name,album_name,no_of_tracks=\"\"):\n",
    "    album_details={\"artist name\":artist_name.title(),\"album name\":album_name.title()}\n",
    "    if no_of_tracks:\n",
    "        album_details[\"no_of_tracks\"]=int(no_of_tracks)\n",
    "    print(album_details)\n",
    "make_album(\"eminem\",\"slim shady\",\"5\")\n",
    "make_album(\"coldplay\",\"head full of stars\",4)\n",
    "make_album(\"imagine dragons\",\"demons\")"
   ]
  },
  {
   "cell_type": "code",
   "execution_count": 20,
   "metadata": {},
   "outputs": [
    {
     "name": "stdout",
     "output_type": "stream",
     "text": [
      "\t\tpress 'q' to exit!!!\n",
      "enter artist name: miley\n",
      "ënter album name: \n",
      "idk\n",
      "miley idk\n",
      "enter artist name: q\n"
     ]
    }
   ],
   "source": [
    "def make_album(artist_name,album_name):\n",
    "    album_details={\"artist name\":ar_name.title(),\"album name\":al_name.title()}\n",
    "    return make_album\n",
    "    \n",
    "print(\"\\t\\tpress 'q' to exit!!!\")\n",
    "while True:\n",
    "    ar_name=input(\"enter artist name: \")\n",
    "    if ar_name=='q':\n",
    "        break\n",
    "    al_name=input(\"ënter album name: \\n\" )\n",
    "    if al_name==\"q\":\n",
    "        break\n",
    "    print(ar_name,al_name)   \n",
    "\n",
    "    \n"
   ]
  },
  {
   "cell_type": "code",
   "execution_count": 21,
   "metadata": {},
   "outputs": [
    {
     "name": "stdout",
     "output_type": "stream",
     "text": [
      "hello, messi\n",
      "hello, dembele\n",
      "hello, pedro\n"
     ]
    }
   ],
   "source": [
    "# passing a list\n",
    "def greet_users(names):\n",
    "    for name in names:\n",
    "        print(\"hello, \"+ name)\n",
    "usernames=[\"messi\",\"dembele\",\"pedro\"]\n",
    "greet_users(usernames)"
   ]
  },
  {
   "cell_type": "code",
   "execution_count": 22,
   "metadata": {},
   "outputs": [
    {
     "name": "stdout",
     "output_type": "stream",
     "text": [
      "lucas is under process!!\n",
      "isco is under process!!\n",
      "karem is under process!!\n",
      "\n",
      "the following models have been printed:\n",
      "lucas\n",
      "isco\n",
      "karem\n"
     ]
    }
   ],
   "source": [
    "unprinted_models=[\"karem\",\"isco\",\"lucas\"]\n",
    "printed=[]\n",
    "while unprinted_models:\n",
    "    current_model=unprinted_models.pop()\n",
    "    print(current_model+\" is under process!!\")\n",
    "    printed.append(current_model)\n",
    "print(\"\\nthe following models have been printed:\")\n",
    "for i in printed:\n",
    "    print(i)"
   ]
  },
  {
   "cell_type": "code",
   "execution_count": 23,
   "metadata": {},
   "outputs": [
    {
     "name": "stdout",
     "output_type": "stream",
     "text": [
      "lucas is under process!!\n",
      "isco is under process!!\n",
      "karem is under process!!\n",
      "\n",
      "following are done-\n",
      "lucas\n",
      "isco\n",
      "karem\n"
     ]
    }
   ],
   "source": [
    "def print_models(unprinted_models,printed):\n",
    "    while unprinted_models:\n",
    "        current_model=unprinted_models.pop()\n",
    "        print(current_model+\" is under process!!\")\n",
    "        printed.append(current_model)\n",
    "def show_completed_models(printed):\n",
    "    print(\"\\nfollowing are done-\")\n",
    "    for i in printed:\n",
    "        print(i)\n",
    "unprinted_models=[\"karem\",\"isco\",\"lucas\"]\n",
    "printed=[]\n",
    "print_models(unprinted_models,printed)\n",
    "show_completed_models(printed)\n",
    "\n",
    "    "
   ]
  },
  {
   "cell_type": "code",
   "execution_count": 24,
   "metadata": {},
   "outputs": [
    {
     "name": "stdout",
     "output_type": "stream",
     "text": [
      "messi\n",
      "payet\n",
      "quaresma\n"
     ]
    }
   ],
   "source": [
    "# 8.9\n",
    "magicians=[\"messi\",\"payet\",\"quaresma\"]\n",
    "def show_magicians(some_list):\n",
    "    for i in some_list:\n",
    "        print(i)\n",
    "show_magicians(magicians)"
   ]
  },
  {
   "cell_type": "code",
   "execution_count": 25,
   "metadata": {},
   "outputs": [
    {
     "name": "stdout",
     "output_type": "stream",
     "text": [
      "Harry Houdini\n",
      "David Blaine\n",
      "Teller\n",
      "\n",
      "\n",
      "['great Teller', 'great David Blaine', 'great Harry Houdini']\n",
      "['great Teller', 'great David Blaine', 'great Harry Houdini']\n",
      "['great Teller', 'great David Blaine', 'great Harry Houdini']\n"
     ]
    }
   ],
   "source": [
    "# 8.10\n",
    "\n",
    "def make_great(magicians):\n",
    "    great_magicians=[]\n",
    "    while magicians:\n",
    "        magician=magicians.pop()\n",
    "        great_magician=\"great \"+magician\n",
    "        great_magicians.append(great_magician)\n",
    "        \n",
    "    for great_magician in great_magicians:\n",
    "        magicians.append(great_magicians)\n",
    " \n",
    "        \n",
    "\n",
    "def show_magicians_(magicians):\n",
    "    for i in magicians:\n",
    "        print(i)\n",
    "\n",
    "magicians = ['Harry Houdini', 'David Blaine', 'Teller']\n",
    "show_magicians_(magicians)\n",
    "print(\"\\n\")\n",
    "make_great(magicians)\n",
    "show_magicians_(magicians)\n"
   ]
  },
  {
   "cell_type": "code",
   "execution_count": 26,
   "metadata": {},
   "outputs": [
    {
     "name": "stdout",
     "output_type": "stream",
     "text": [
      "Harry Houdini\n",
      "David Blaine\n",
      "Teller\n",
      "\n",
      "Great magicians:\n",
      "Teller the Great\n",
      "David Blaine the Great\n",
      "Harry Houdini the Great\n",
      "\n",
      "Original magicians:\n",
      "Harry Houdini\n",
      "David Blaine\n",
      "Teller\n"
     ]
    }
   ],
   "source": [
    "# 8.11\n",
    "def show_magicians(magicians):\n",
    "    \"\"\"Print the name of each magician in the list.\"\"\"\n",
    "    for magician in magicians:\n",
    "        print(magician)\n",
    "\n",
    "def make_great(magicians):\n",
    "    \"\"\"Add 'the Great!' to each magician's name.\"\"\"\n",
    "    # Build a new list to hold the great musicians.\n",
    "    great_magicians = []\n",
    "\n",
    "    # Make each magician great, and add it to great_magicians.\n",
    "    while magicians:\n",
    "        magician = magicians.pop()\n",
    "        great_magician = magician + ' the Great'\n",
    "        great_magicians.append(great_magician)\n",
    "\n",
    "    # Add the great magicians back into magicians.\n",
    "    for great_magician in great_magicians:\n",
    "        magicians.append(great_magician)\n",
    "\n",
    "    return magicians\n",
    "\n",
    "magicians = ['Harry Houdini', 'David Blaine', 'Teller']\n",
    "show_magicians(magicians)\n",
    "\n",
    "print(\"\\nGreat magicians:\")\n",
    "great_magicians = make_great(magicians[:])\n",
    "show_magicians(great_magicians)\n",
    "\n",
    "print(\"\\nOriginal magicians:\")\n",
    "show_magicians(magicians)"
   ]
  },
  {
   "cell_type": "code",
   "execution_count": 27,
   "metadata": {},
   "outputs": [
    {
     "name": "stdout",
     "output_type": "stream",
     "text": [
      "('pepperoni',)\n",
      "('mushrooms', 'green peppers', 'extra cheese')\n"
     ]
    }
   ],
   "source": [
    "# passing arbitrary number of argumennts\n",
    "def make_pizza(*toppings):\n",
    "    print(toppings)\n",
    "make_pizza(\"pepperoni\")\n",
    "make_pizza(\"mushrooms\",\"green peppers\",\"extra cheese\")"
   ]
  },
  {
   "cell_type": "code",
   "execution_count": 28,
   "metadata": {},
   "outputs": [
    {
     "name": "stdout",
     "output_type": "stream",
     "text": [
      "followingg topppings in your pizza:\n",
      "- pepperoni\n",
      "followingg topppings in your pizza:\n",
      "- mushrooms\n",
      "- green peppers\n",
      "- extra cheese\n"
     ]
    }
   ],
   "source": [
    "def make_pizza(*toppings):\n",
    "    print(\"followingg topppings in your pizza:\")\n",
    "    for i in toppings:\n",
    "        print(\"- \"+ i)\n",
    "make_pizza(\"pepperoni\")\n",
    "make_pizza(\"mushrooms\",\"green peppers\",\"extra cheese\")"
   ]
  },
  {
   "cell_type": "code",
   "execution_count": 29,
   "metadata": {},
   "outputs": [
    {
     "name": "stdout",
     "output_type": "stream",
     "text": [
      "make a pizza of size 8-inches with following toppings: \n",
      "- pepperoni\n",
      "make a pizza of size 6-inches with following toppings: \n",
      "- mushrooms\n",
      "- green peppers\n",
      "- extra cheese\n"
     ]
    }
   ],
   "source": [
    "def make_pizza(size,*toppings):\n",
    "    print(\"make a pizza of size \"+str(size)+\"-inches with following toppings: \")\n",
    "    for i in toppings:\n",
    "        print(\"- \"+i)\n",
    "make_pizza(8,\"pepperoni\")\n",
    "make_pizza(6,\"mushrooms\",\"green peppers\",\"extra cheese\")"
   ]
  },
  {
   "cell_type": "code",
   "execution_count": 30,
   "metadata": {},
   "outputs": [
    {
     "data": {
      "text/plain": [
       "{'first': 'loenil', 'last': 'messi', 'country': 'argentina', 'age': '33'}"
      ]
     },
     "execution_count": 30,
     "metadata": {},
     "output_type": "execute_result"
    }
   ],
   "source": [
    "def build_profile(first,last,**user_info):\n",
    "    profile={}\n",
    "    profile[\"first\"]=first\n",
    "    profile[\"last\"]=last\n",
    "    for key,values in user_info.items():\n",
    "        profile[key]=values\n",
    "    return profile\n",
    "build_profile(\"loenil\",\"messi\",country=\"argentina\",age='33')"
   ]
  },
  {
   "cell_type": "code",
   "execution_count": null,
   "metadata": {},
   "outputs": [],
   "source": []
  }
 ],
 "metadata": {
  "kernelspec": {
   "display_name": "Python 3",
   "language": "python",
   "name": "python3"
  },
  "language_info": {
   "codemirror_mode": {
    "name": "ipython",
    "version": 3
   },
   "file_extension": ".py",
   "mimetype": "text/x-python",
   "name": "python",
   "nbconvert_exporter": "python",
   "pygments_lexer": "ipython3",
   "version": "3.7.1"
  }
 },
 "nbformat": 4,
 "nbformat_minor": 2
}

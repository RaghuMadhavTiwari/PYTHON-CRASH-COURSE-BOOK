{
 "cells": [
  {
   "cell_type": "markdown",
   "metadata": {},
   "source": [
    "CHAPTER 6 : DICTIONARIES"
   ]
  },
  {
   "cell_type": "code",
   "execution_count": 1,
   "metadata": {},
   "outputs": [],
   "source": [
    "alien0={'color':'green','points':5}"
   ]
  },
  {
   "cell_type": "code",
   "execution_count": 2,
   "metadata": {},
   "outputs": [
    {
     "data": {
      "text/plain": [
       "'green'"
      ]
     },
     "execution_count": 2,
     "metadata": {},
     "output_type": "execute_result"
    }
   ],
   "source": [
    "alien0['color']"
   ]
  },
  {
   "cell_type": "code",
   "execution_count": 3,
   "metadata": {},
   "outputs": [
    {
     "name": "stdout",
     "output_type": "stream",
     "text": [
      "You just earned 5 ponts!\n"
     ]
    }
   ],
   "source": [
    "new_points=alien0['points']\n",
    "print(\"You just earned \"+str(new_points) +\" ponts!\")"
   ]
  },
  {
   "cell_type": "code",
   "execution_count": 4,
   "metadata": {},
   "outputs": [],
   "source": [
    "alien0['x']=0\n",
    "alien0['y']=25"
   ]
  },
  {
   "cell_type": "code",
   "execution_count": 5,
   "metadata": {},
   "outputs": [
    {
     "data": {
      "text/plain": [
       "{'color': 'green', 'points': 5, 'x': 0, 'y': 25}"
      ]
     },
     "execution_count": 5,
     "metadata": {},
     "output_type": "execute_result"
    }
   ],
   "source": [
    "alien0"
   ]
  },
  {
   "cell_type": "code",
   "execution_count": 6,
   "metadata": {},
   "outputs": [
    {
     "data": {
      "text/plain": [
       "{'color': 'yellow', 'points': 5, 'x': 0, 'y': 25}"
      ]
     },
     "execution_count": 6,
     "metadata": {},
     "output_type": "execute_result"
    }
   ],
   "source": [
    "#modifying values\n",
    "alien0['color']='yellow'\n",
    "alien0"
   ]
  },
  {
   "cell_type": "code",
   "execution_count": 7,
   "metadata": {},
   "outputs": [
    {
     "name": "stdout",
     "output_type": "stream",
     "text": [
      "original position of alien 0\n"
     ]
    }
   ],
   "source": [
    "#moving the alien0\n",
    "print(\"original position of alien \"+str(alien0['x']))\n"
   ]
  },
  {
   "cell_type": "code",
   "execution_count": 8,
   "metadata": {},
   "outputs": [
    {
     "data": {
      "text/plain": [
       "{'color': 'yellow', 'points': 5, 'x': 0, 'y': 25, 'speed': 'medium'}"
      ]
     },
     "execution_count": 8,
     "metadata": {},
     "output_type": "execute_result"
    }
   ],
   "source": [
    "alien0['speed']='medium'\n",
    "alien0"
   ]
  },
  {
   "cell_type": "code",
   "execution_count": 9,
   "metadata": {},
   "outputs": [
    {
     "data": {
      "text/plain": [
       "2"
      ]
     },
     "execution_count": 9,
     "metadata": {},
     "output_type": "execute_result"
    }
   ],
   "source": [
    "if alien0['speed']=='slow':\n",
    "    x_increment=1\n",
    "elif alien0['speed']=='medium':\n",
    "    x_increment=2\n",
    "else:\n",
    "    #must be a fast alien0\n",
    "    x_increment=3\n",
    "    \n",
    "alien0['x']=alien0['x']+x_increment\n",
    "alien0['x']"
   ]
  },
  {
   "cell_type": "code",
   "execution_count": 10,
   "metadata": {},
   "outputs": [
    {
     "data": {
      "text/plain": [
       "{'color': 'yellow', 'points': 5, 'x': 2, 'y': 25, 'speed': 'fast'}"
      ]
     },
     "execution_count": 10,
     "metadata": {},
     "output_type": "execute_result"
    }
   ],
   "source": [
    "alien0['speed']='fast'\n",
    "alien0"
   ]
  },
  {
   "cell_type": "code",
   "execution_count": 11,
   "metadata": {},
   "outputs": [
    {
     "name": "stdout",
     "output_type": "stream",
     "text": [
      "{'color': 'yellow', 'points': '5'}\n",
      "{'color': 'yellow'}\n"
     ]
    }
   ],
   "source": [
    "alien0={\"color\":\"yellow\",\"points\":\"5\"}\n",
    "print(alien0)\n",
    "del alien0[\"points\"]\n",
    "print(alien0)"
   ]
  },
  {
   "cell_type": "code",
   "execution_count": 12,
   "metadata": {},
   "outputs": [
    {
     "name": "stdout",
     "output_type": "stream",
     "text": [
      "fav lang of phil is R\n"
     ]
    }
   ],
   "source": [
    "fav_languages={\n",
    "    \"jen\":\"python\",\n",
    "    \"ben\":\"ruby\",\n",
    "    \"den\":\"c\",\n",
    "    \"phil\":\"r\",\n",
    "    }\n",
    "print(\"fav lang of phil is \"+fav_languages[\"phil\"].title())"
   ]
  },
  {
   "cell_type": "code",
   "execution_count": 13,
   "metadata": {},
   "outputs": [
    {
     "name": "stdout",
     "output_type": "stream",
     "text": [
      "{'First name': 'Phil', 'Last name': 'Jones', 'age': 26, 'club': 'Machester united'}\n"
     ]
    }
   ],
   "source": [
    "phils_details={\"First name\":\"Phil\",\"Last name\":\"Jones\",\"age\":26,\"club\":\"Machester united\"}\n",
    "print(phils_details)"
   ]
  },
  {
   "cell_type": "code",
   "execution_count": 14,
   "metadata": {},
   "outputs": [],
   "source": [
    "# mini python glossary\n",
    "glossary={\n",
    "    \"print\":\"gets output of whatever is inside it!\",\n",
    "    \"if\":\"check a condition and perform according if the condition is true or false\",\n",
    "    \"for\":\"used as a looping statement\",\n",
    "    \"del\":\"deletes something\",\n",
    "    \"in\":\"checks presence of an object/item in an object\"}"
   ]
  },
  {
   "cell_type": "code",
   "execution_count": 15,
   "metadata": {},
   "outputs": [
    {
     "data": {
      "text/plain": [
       "{'print': 'gets output of whatever is inside it!',\n",
       " 'if': 'check a condition and perform according if the condition is true or false',\n",
       " 'for': 'used as a looping statement',\n",
       " 'del': 'deletes something',\n",
       " 'in': 'checks presence of an object/item in an object'}"
      ]
     },
     "execution_count": 15,
     "metadata": {},
     "output_type": "execute_result"
    }
   ],
   "source": [
    "glossary"
   ]
  },
  {
   "cell_type": "code",
   "execution_count": 16,
   "metadata": {},
   "outputs": [
    {
     "name": "stdout",
     "output_type": "stream",
     "text": [
      "\n",
      "Key:jen\n",
      "Values:python\n",
      "\n",
      "Key:ben\n",
      "Values:ruby\n",
      "\n",
      "Key:den\n",
      "Values:c\n",
      "\n",
      "Key:phil\n",
      "Values:r\n"
     ]
    }
   ],
   "source": [
    "for key,values in fav_languages.items():\n",
    "    print(\"\\nKey:\"+key)\n",
    "    print(\"Values:\"+values)\n",
    "    "
   ]
  },
  {
   "cell_type": "code",
   "execution_count": 17,
   "metadata": {},
   "outputs": [
    {
     "name": "stdout",
     "output_type": "stream",
     "text": [
      "Jen's fav lang is Python\n",
      "Ben's fav lang is Ruby\n",
      "Den's fav lang is C\n",
      "Phil's fav lang is R\n"
     ]
    }
   ],
   "source": [
    "for name,language in fav_languages.items():\n",
    "    print(name.title() +\"'s fav lang is \"+ language.title())"
   ]
  },
  {
   "cell_type": "code",
   "execution_count": 18,
   "metadata": {},
   "outputs": [
    {
     "name": "stdout",
     "output_type": "stream",
     "text": [
      "Jen\n",
      "Ben\n",
      "Den\n",
      "Phil\n"
     ]
    }
   ],
   "source": [
    "#print only keys\n",
    "for name in fav_languages.keys():\n",
    "    print(name.title())"
   ]
  },
  {
   "cell_type": "code",
   "execution_count": 19,
   "metadata": {},
   "outputs": [
    {
     "name": "stdout",
     "output_type": "stream",
     "text": [
      "python\n",
      "ruby\n",
      "c\n",
      "r\n"
     ]
    }
   ],
   "source": [
    "#looping through all the values\n",
    "for languages in fav_languages.values():\n",
    "    print(languages)"
   ]
  },
  {
   "cell_type": "code",
   "execution_count": 20,
   "metadata": {},
   "outputs": [
    {
     "name": "stdout",
     "output_type": "stream",
     "text": [
      "Jen\n",
      "Hi jen , your fav lang is Python .\n",
      "Ben\n",
      "Den\n",
      "Phil\n",
      "Hi phil , your fav lang is R .\n"
     ]
    }
   ],
   "source": [
    "fav_languages={\n",
    "    \"jen\":\"python\",\n",
    "    \"ben\":\"ruby\",\n",
    "    \"den\":\"c\",\n",
    "    \"phil\":\"r\",\n",
    "    }\n",
    "friends=[\"jen\",\"phil\"]\n",
    "for name in fav_languages:\n",
    "    print(name.title())\n",
    "    if name in friends:\n",
    "        print(\"Hi \"+name+\" , your fav lang is \"+ fav_languages[name].title()+\" .\")"
   ]
  },
  {
   "cell_type": "code",
   "execution_count": 21,
   "metadata": {},
   "outputs": [
    {
     "name": "stdout",
     "output_type": "stream",
     "text": [
      "ben your fav lang is ruby\n",
      "den your fav lang is c\n",
      "jen your fav lang is python\n",
      "phil your fav lang is r\n"
     ]
    }
   ],
   "source": [
    "#looping  through list in order\n",
    "for name in  sorted(fav_languages.keys()):\n",
    "    print(name + \" your fav lang is \" + fav_languages[name])"
   ]
  },
  {
   "cell_type": "code",
   "execution_count": 22,
   "metadata": {},
   "outputs": [
    {
     "name": "stdout",
     "output_type": "stream",
     "text": [
      "print:\tgets output of whatever is inside it!\n",
      "\n",
      "if:\tcheck a condition and perform according if the condition is true or false\n",
      "\n",
      "for:\tused as a looping statement\n",
      "\n",
      "del:\tdeletes something\n",
      "\n",
      "in:\tchecks presence of an object/item in an object\n",
      "\n"
     ]
    }
   ],
   "source": [
    "glossary={\n",
    "    \"print\":\"gets output of whatever is inside it!\",\n",
    "    \"if\":\"check a condition and perform according if the condition is true or false\",\n",
    "    \"for\":\"used as a looping statement\",\n",
    "    \"del\":\"deletes something\",\n",
    "    \"in\":\"checks presence of an object/item in an object\"}\n",
    "for name,purpose in glossary.items():\n",
    "    print(name+\":\\t\"+purpose+\"\\n\")"
   ]
  },
  {
   "cell_type": "code",
   "execution_count": 23,
   "metadata": {},
   "outputs": [
    {
     "data": {
      "text/plain": [
       "{'print': 'gets output of whatever is inside it!',\n",
       " 'if': 'check a condition and perform according if the condition is true or false',\n",
       " 'for': 'used as a looping statement',\n",
       " 'del': 'deletes something',\n",
       " 'in': 'checks presence of an object/item in an object',\n",
       " 'title': 'makes first letter capital'}"
      ]
     },
     "execution_count": 23,
     "metadata": {},
     "output_type": "execute_result"
    }
   ],
   "source": [
    "glossary[\"title\"]=\"makes first letter capital\"\n",
    "glossary"
   ]
  },
  {
   "cell_type": "code",
   "execution_count": 24,
   "metadata": {},
   "outputs": [
    {
     "data": {
      "text/plain": [
       "{'nile': 'egypt', 'thames': 'uk', 'godavari': 'india'}"
      ]
     },
     "execution_count": 24,
     "metadata": {},
     "output_type": "execute_result"
    }
   ],
   "source": [
    "rivers={\"nile\":\"egypt\",\"thames\":\"uk\",\"godavari\":\"india\"}\n",
    "rivers"
   ]
  },
  {
   "cell_type": "code",
   "execution_count": 25,
   "metadata": {},
   "outputs": [
    {
     "name": "stdout",
     "output_type": "stream",
     "text": [
      "nile runs through egypt\n",
      "thames runs through uk\n",
      "godavari runs through india\n"
     ]
    }
   ],
   "source": [
    "for river in rivers.keys():\n",
    "    print(river +\" runs through \"+ rivers[river])"
   ]
  },
  {
   "cell_type": "code",
   "execution_count": 26,
   "metadata": {},
   "outputs": [
    {
     "name": "stdout",
     "output_type": "stream",
     "text": [
      "nile\n",
      "thames\n",
      "godavari\n"
     ]
    }
   ],
   "source": [
    "for river in rivers.keys():\n",
    "    print(river)"
   ]
  },
  {
   "cell_type": "code",
   "execution_count": 27,
   "metadata": {},
   "outputs": [
    {
     "name": "stdout",
     "output_type": "stream",
     "text": [
      "egypt\n",
      "uk\n",
      "india\n"
     ]
    }
   ],
   "source": [
    "for country in rivers.values():\n",
    "    print(country)"
   ]
  },
  {
   "cell_type": "code",
   "execution_count": 28,
   "metadata": {},
   "outputs": [
    {
     "name": "stdout",
     "output_type": "stream",
     "text": [
      "please take the poll mesut\n",
      "Thanks for taking test jen\n",
      "Thanks for taking test phil\n",
      "please take the poll leonel\n"
     ]
    }
   ],
   "source": [
    "fav_languages={\n",
    "    \"jen\":\"python\",\n",
    "    \"ben\":\"ruby\",\n",
    "    \"den\":\"c\",\n",
    "    \"phil\":\"r\",\n",
    "    }\n",
    "list_of_people=[\"mesut\",\"jen\",\"phil\",\"leonel\"]\n",
    "\n",
    "for coder in list_of_people:\n",
    "    if coder in fav_languages.keys():\n",
    "        print(\"Thanks for taking test \"+coder)\n",
    "    else:\n",
    "        print(\"please take the poll \"+coder)\n"
   ]
  },
  {
   "cell_type": "code",
   "execution_count": 29,
   "metadata": {},
   "outputs": [
    {
     "name": "stdout",
     "output_type": "stream",
     "text": [
      "{'color': 'green', 'points': 5, 'speed': 'slow'}\n",
      "{'color': 'green', 'points': 5, 'speed': 'slow'}\n",
      "{'color': 'green', 'points': 5, 'speed': 'slow'}\n",
      "{'color': 'green', 'points': 5, 'speed': 'slow'}\n",
      "{'color': 'green', 'points': 5, 'speed': 'slow'}\n"
     ]
    }
   ],
   "source": [
    "#make 30 aliens\n",
    "#create an empty list of  aliens\n",
    "aliens=[]\n",
    "\n",
    "#add 30 aliens\n",
    "for alien_number in range(30):\n",
    "    new_alien={\"color\":\"green\",\"points\":5,\"speed\":\"slow\"}\n",
    "    aliens.append(new_alien)\n",
    "\n",
    "# show the 1st 5 aliens\n",
    "for alien in aliens[:5]:\n",
    "    print(alien)"
   ]
  },
  {
   "cell_type": "code",
   "execution_count": 30,
   "metadata": {},
   "outputs": [
    {
     "data": {
      "text/plain": [
       "30"
      ]
     },
     "execution_count": 30,
     "metadata": {},
     "output_type": "execute_result"
    }
   ],
   "source": [
    "# lenght of aliens\n",
    "len(aliens)"
   ]
  },
  {
   "cell_type": "code",
   "execution_count": 31,
   "metadata": {},
   "outputs": [
    {
     "name": "stdout",
     "output_type": "stream",
     "text": [
      "{'color': 'yellow', 'points': 10, 'speed': 'medium'}\n",
      "{'color': 'yellow', 'points': 10, 'speed': 'medium'}\n",
      "{'color': 'yellow', 'points': 10, 'speed': 'medium'}\n",
      "{'color': 'green', 'points': 5, 'speed': 'slow'}\n",
      "{'color': 'green', 'points': 5, 'speed': 'slow'}\n"
     ]
    }
   ],
   "source": [
    "# Modify the  first 3 yellow aliens to green and their resp characterstics\n",
    "for alien in aliens[0:3]:\n",
    "    if alien[\"color\"]==\"green\":\n",
    "        alien[\"color\"],alien[\"speed\"],alien[\"points\"]=\"yellow\",\"medium\",10\n",
    "\n",
    "for alien in aliens[:5]:\n",
    "    print(alien)"
   ]
  },
  {
   "cell_type": "code",
   "execution_count": 32,
   "metadata": {},
   "outputs": [
    {
     "name": "stdout",
     "output_type": "stream",
     "text": [
      "{'color': 'yellow', 'points': 10, 'speed': 'medium'}\n",
      "{'color': 'yellow', 'points': 10, 'speed': 'medium'}\n",
      "{'color': 'yellow', 'points': 10, 'speed': 'medium'}\n",
      "{'color': 'red', 'points': 15, 'speed': 'fast'}\n",
      "{'color': 'green', 'points': 5, 'speed': 'slow'}\n"
     ]
    }
   ],
   "source": [
    "# change 1st green alien into faster red one\n",
    "for alien in aliens[:4]:\n",
    "    if alien[\"color\"]==\"green\":\n",
    "         alien[\"color\"],alien[\"speed\"],alien[\"points\"]=\"red\",\"fast\",15\n",
    "            \n",
    "for alien in aliens[:5]:\n",
    "    print(alien)"
   ]
  },
  {
   "cell_type": "code",
   "execution_count": 33,
   "metadata": {},
   "outputs": [
    {
     "name": "stdout",
     "output_type": "stream",
     "text": [
      "you ordered a thick -crust pizza with the following toppings:\n",
      "mushrooms\n",
      "extra cheese\n"
     ]
    }
   ],
   "source": [
    "# making a list within a dictionary\n",
    "pizza={\"crust\":\"thick\",\"toppings\":[\"mushrooms\",\"extra cheese\"]}\n",
    "\n",
    "print(\"you ordered a \"+ pizza[\"crust\"]+\" -crust pizza \"+ \"with the following toppings:\")\n",
    "for topping in pizza[\"toppings\"]:\n",
    "    print(topping )"
   ]
  },
  {
   "cell_type": "code",
   "execution_count": 41,
   "metadata": {},
   "outputs": [
    {
     "name": "stdout",
     "output_type": "stream",
     "text": [
      "\n",
      "Kane's fav langs are:\n",
      "python\n",
      "c\n",
      "\n",
      "Maguire's fav langs are:\n",
      "c\n",
      "\n",
      "Son's fav langs are:\n",
      "ruby\n",
      "go\n",
      "\n",
      "Phil's fav langs are:\n",
      "python\n",
      "r\n"
     ]
    }
   ],
   "source": [
    "favorite_languages={\n",
    "    \"kane\":[\"python\",\"c\"],\n",
    "    \"maguire\":[\"c\"],\n",
    "    \"son\":[\"ruby\",\"go\"],\n",
    "    \"phil\":[\"python\",\"r\"],    \n",
    "}\n",
    "\n",
    "for name,languages in favorite_languages.items():\n",
    "    print(\"\\n\"+name.title()+\"'s fav langs are:\")\n",
    "    for language in languages:\n",
    "        print (language)"
   ]
  },
  {
   "cell_type": "code",
   "execution_count": 43,
   "metadata": {},
   "outputs": [
    {
     "name": "stdout",
     "output_type": "stream",
     "text": [
      "\n",
      "Kane's fav langs are:\n",
      "python\n",
      "c\n",
      "\n",
      "Maguire's fav lang is ['c']\n",
      "\n",
      "Son's fav langs are:\n",
      "ruby\n",
      "go\n",
      "\n",
      "Phil's fav langs are:\n",
      "python\n",
      "r\n"
     ]
    }
   ],
   "source": [
    "# modifying above output\n",
    "\n",
    "for name,languages in favorite_languages.items():\n",
    "    if len(languages)==2:\n",
    "        print(\"\\n\"+name.title()+\"'s fav langs are:\")\n",
    "        for language in languages:\n",
    "            print (language)\n",
    "    else:\n",
    "        print(\"\\n\"+name.title()+\"'s fav lang is \"+str(languages))"
   ]
  },
  {
   "cell_type": "code",
   "execution_count": 47,
   "metadata": {},
   "outputs": [
    {
     "name": "stdout",
     "output_type": "stream",
     "text": [
      "\n",
      "Username: hkane\n",
      "Full name: harry kane\n",
      "country of origin: england\n",
      "\n",
      "Username: hmson\n",
      "Full name: huengmin son\n",
      "country of origin: south korea\n",
      "\n",
      "Username: hloris\n",
      "Full name: hugo loris\n",
      "country of origin: france\n"
     ]
    }
   ],
   "source": [
    "# nesting dictionaries in dictionaries\n",
    "spurs={\n",
    "    \"hkane\":{\"first\":\"harry\",\"last\":\"kane\",\"country\":\"england\"},\n",
    "    \"hmson\":{\"first\":\"huengmin\",\"last\" :\"son\",\"country\":\"south korea\"},\n",
    "    \"hloris\":{\"first\":\"hugo\",\"last\":\"loris\",\"country\":\"france\"}    ,\n",
    "    }\n",
    "for player,info in spurs.items():\n",
    "    print(\"\\nUsername: \" + player)\n",
    "    print(\"Full name: \"+ info[\"first\"]+\" \"+info[\"last\"] )\n",
    "    print(\"country of origin: \"+info[\"country\"])"
   ]
  },
  {
   "cell_type": "code",
   "execution_count": 49,
   "metadata": {},
   "outputs": [
    {
     "name": "stdout",
     "output_type": "stream",
     "text": [
      "harry kane's country of origin is england\n",
      "huengmin son's country of origin is south korea\n",
      "hugo loris's country of origin is france\n"
     ]
    }
   ],
   "source": [
    "# 6.7\n",
    "harry_kane={\"first\":\"harry\",\"last\":\"kane\",\"country\":\"england\"}\n",
    "hueng_min_son={\"first\":\"huengmin\",\"last\" :\"son\",\"country\":\"south korea\"}\n",
    "hugo_loris={\"first\":\"hugo\",\"last\":\"loris\",\"country\":\"france\"}\n",
    "tottenham=[harry_kane,hueng_min_son,hugo_loris]\n",
    "for player in tottenham:\n",
    "    print(player[\"first\"]+\" \"+player[\"last\"]+\"'s country of origin is \"+player[\"country\"])"
   ]
  },
  {
   "cell_type": "code",
   "execution_count": 50,
   "metadata": {},
   "outputs": [],
   "source": [
    "#6.8 pets\n",
    "pet1={\"kind\":\"dog\",\"name_of_pet\":\"oliver\",\"name_of_owner\":\"harry\",\"age\":\"3\"}\n",
    "pet2={\"kind\":\"cat\",\"name_of_pet\":\"garfield\",\"name_of_owner\":\"loris\",\"age\":\"6\"}\n",
    "pet3={\"kind\":\"rabbit\",\"name_of_pet\":\"zoom\",\"name_of_owner\":\"son\",\"age\":\"2\"}\n",
    "pets=[]\n",
    "pets.append(pet1)\n",
    "pets.append(pet2)\n",
    "pets.append(pet3)"
   ]
  },
  {
   "cell_type": "code",
   "execution_count": 57,
   "metadata": {},
   "outputs": [
    {
     "name": "stdout",
     "output_type": "stream",
     "text": [
      "\n",
      "oliver's info: \n",
      "\tkind: dog\n",
      "\tname_of_pet: oliver\n",
      "\tname_of_owner: harry\n",
      "\tage: 3\n",
      "\n",
      "garfield's info: \n",
      "\tkind: cat\n",
      "\tname_of_pet: garfield\n",
      "\tname_of_owner: loris\n",
      "\tage: 6\n",
      "\n",
      "zoom's info: \n",
      "\tkind: rabbit\n",
      "\tname_of_pet: zoom\n",
      "\tname_of_owner: son\n",
      "\tage: 2\n"
     ]
    }
   ],
   "source": [
    "for pet in pets:\n",
    "    \n",
    "    print(\"\\n\"+pet[\"name_of_pet\"]+\"'s info: \")\n",
    "    for key,value in pet.items():\n",
    "        print(\"\\t\"+key+\": \"+value)"
   ]
  },
  {
   "cell_type": "code",
   "execution_count": 63,
   "metadata": {},
   "outputs": [
    {
     "name": "stdout",
     "output_type": "stream",
     "text": [
      "fav place of xhaka is: \n",
      "\tbern\n",
      "\tmumbai\n",
      "fav place of oezil is: \n",
      "\tberlin\n",
      "\tdelhi\n",
      "fav place of aubamayeang is: \n",
      "\tlibreville\n"
     ]
    }
   ],
   "source": [
    "#6.9\n",
    "fav_places={\n",
    "    \"xhaka\":[\"bern\",\"mumbai\"],\n",
    "    \"oezil\":[\"berlin\",\"delhi\"],\n",
    "    \"aubamayeang\":[\"libreville\"],\n",
    "}\n",
    "for person,places in fav_places.items():\n",
    "    print(\"fav place of \"+ person+\" is: \")\n",
    "    for place in places:\n",
    "        print(\"\\t\"+place)"
   ]
  },
  {
   "cell_type": "code",
   "execution_count": 67,
   "metadata": {},
   "outputs": [
    {
     "name": "stdout",
     "output_type": "stream",
     "text": [
      "delhi is in New delhi ,has a population of:1,00,00,000 ,and is know for CAPITAL OF INDIA\n",
      "mumbai is in maharashtra ,has a population of:2,00,00,000 ,and is know for has gateway of india\n",
      "chennai is in Tamil nadu ,has a population of:50,00,000 ,and is know for smell of fish everywhere\n"
     ]
    }
   ],
   "source": [
    "# 6.11\n",
    "cities={\n",
    "    \"delhi\":{\"state\":\"New delhi\",\"population\":\"1,00,00,000\",\"fact\":\"CAPITAL OF INDIA\"},\n",
    "    \n",
    "    \"mumbai\":{\"state\":\"maharashtra\",\"population\":\"2,00,00,000\",\"fact\":\"has gateway of india\"},\n",
    "    \n",
    "    \"chennai\":{\"state\":\"Tamil nadu\",\"population\":\"50,00,000\",\"fact\":\"smell of fish everywhere\"},\n",
    "    \n",
    "}\n",
    "\n",
    "\n",
    "for city,info in cities.items():\n",
    "    state=info[\"state\"]\n",
    "    population=info[\"population\"]\n",
    "    fact=info[\"fact\"]\n",
    "    print(city+\" is in \"+state+\" ,has a population of:\"+population+\" ,and is know for \"+fact)"
   ]
  },
  {
   "cell_type": "code",
   "execution_count": null,
   "metadata": {},
   "outputs": [],
   "source": []
  }
 ],
 "metadata": {
  "kernelspec": {
   "display_name": "Python 3",
   "language": "python",
   "name": "python3"
  },
  "language_info": {
   "codemirror_mode": {
    "name": "ipython",
    "version": 3
   },
   "file_extension": ".py",
   "mimetype": "text/x-python",
   "name": "python",
   "nbconvert_exporter": "python",
   "pygments_lexer": "ipython3",
   "version": "3.7.1"
  }
 },
 "nbformat": 4,
 "nbformat_minor": 2
}

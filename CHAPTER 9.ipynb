{
 "cells": [
  {
   "cell_type": "code",
   "execution_count": 1,
   "metadata": {},
   "outputs": [],
   "source": [
    "class Dog():\n",
    "    def __init__(self,name,age):\n",
    "        self.name=name\n",
    "        self.age=age\n",
    "    def sit(self):\n",
    "        print(self.name.title()+\" is now sitting.\")\n",
    "    def roll_over(self):\n",
    "        print(self.name.title()+\" rolled over!\")\n",
    "\n",
    "        "
   ]
  },
  {
   "cell_type": "code",
   "execution_count": 2,
   "metadata": {},
   "outputs": [
    {
     "name": "stdout",
     "output_type": "stream",
     "text": [
      "My dog's name is Wliile\n",
      "My dog is 6yrs old\n"
     ]
    }
   ],
   "source": [
    "my_dog=Dog(\"wliile\",6)\n",
    "print(\"My dog's name is \" + my_dog.name.title())\n",
    "print(\"My dog is \"+str(my_dog.age)+ \"yrs old\")"
   ]
  },
  {
   "cell_type": "code",
   "execution_count": 3,
   "metadata": {},
   "outputs": [
    {
     "name": "stdout",
     "output_type": "stream",
     "text": [
      "Wliile is now sitting.\n"
     ]
    }
   ],
   "source": [
    "my_dog.sit()"
   ]
  },
  {
   "cell_type": "code",
   "execution_count": 4,
   "metadata": {},
   "outputs": [
    {
     "name": "stdout",
     "output_type": "stream",
     "text": [
      "Wliile rolled over!\n"
     ]
    }
   ],
   "source": [
    "my_dog.roll_over()"
   ]
  },
  {
   "cell_type": "code",
   "execution_count": 5,
   "metadata": {},
   "outputs": [
    {
     "name": "stdout",
     "output_type": "stream",
     "text": [
      "your dog's name is Lucy\n",
      "your dog is 3yrs old\n"
     ]
    }
   ],
   "source": [
    "your_dog=Dog(\"lucy\",3)\n",
    "print(\"your dog's name is \"+ your_dog.name.title())\n",
    "print(\"your dog is \"+str(your_dog.age) + \"yrs old\")"
   ]
  },
  {
   "cell_type": "code",
   "execution_count": 6,
   "metadata": {},
   "outputs": [
    {
     "name": "stdout",
     "output_type": "stream",
     "text": [
      "Lucy is now sitting.\n"
     ]
    }
   ],
   "source": [
    "your_dog.sit()"
   ]
  },
  {
   "cell_type": "code",
   "execution_count": 21,
   "metadata": {},
   "outputs": [],
   "source": [
    "#9.1\n",
    "class Restaurant():\n",
    "    def __init__(self,restaurant_name,cuisine_type):\n",
    "        self.restaurant_name=restaurant_name\n",
    "        self.cuisine_type=cuisine_type\n",
    "    def describe_restaurant(self):\n",
    "        print(\"the name of restaurant is:\" + self.restaurant_name.title())\n",
    "        print(\"\\nthe cuisine of restaurant is:\"+self.cuisine_type)\n",
    "    def open_restaurant(self):\n",
    "        print(self.restaurant_name + \" the restaurant is now OPEN!!\")\n",
    "        "
   ]
  },
  {
   "cell_type": "code",
   "execution_count": 23,
   "metadata": {},
   "outputs": [
    {
     "name": "stdout",
     "output_type": "stream",
     "text": [
      "wah ji wah\n",
      "punjabi\n"
     ]
    }
   ],
   "source": [
    "restaurant=Restaurant(\"wah ji wah\",\"punjabi\")\n",
    "print(restaurant.restaurant_name)\n",
    "print(restaurant.cuisine_type)"
   ]
  },
  {
   "cell_type": "code",
   "execution_count": 24,
   "metadata": {},
   "outputs": [
    {
     "name": "stdout",
     "output_type": "stream",
     "text": [
      "the name of restaurant is:Wah Ji Wah\n",
      "\n",
      "the cuisine of restaurant is:punjabi\n"
     ]
    }
   ],
   "source": [
    "restaurant.describe_restaurant()"
   ]
  },
  {
   "cell_type": "code",
   "execution_count": 25,
   "metadata": {},
   "outputs": [
    {
     "name": "stdout",
     "output_type": "stream",
     "text": [
      "wah ji wah the restaurant is now OPEN!!\n"
     ]
    }
   ],
   "source": [
    "restaurant.open_restaurant()"
   ]
  },
  {
   "cell_type": "code",
   "execution_count": 29,
   "metadata": {},
   "outputs": [],
   "source": [
    "#9.2\n",
    "restaurant_1=Restaurant(\"haldiram\",\"all\")\n",
    "restaurant_2=Restaurant(\"wow momo\",\"chinese\")\n"
   ]
  },
  {
   "cell_type": "code",
   "execution_count": 30,
   "metadata": {},
   "outputs": [
    {
     "name": "stdout",
     "output_type": "stream",
     "text": [
      "the name of restaurant is:Haldiram\n",
      "\n",
      "the cuisine of restaurant is:all\n"
     ]
    }
   ],
   "source": [
    "restaurant_1.describe_restaurant()\n"
   ]
  },
  {
   "cell_type": "code",
   "execution_count": 31,
   "metadata": {},
   "outputs": [
    {
     "name": "stdout",
     "output_type": "stream",
     "text": [
      "the name of restaurant is:Wow Momo\n",
      "\n",
      "the cuisine of restaurant is:chinese\n"
     ]
    }
   ],
   "source": [
    "restaurant_2.describe_restaurant()"
   ]
  },
  {
   "cell_type": "code",
   "execution_count": 5,
   "metadata": {},
   "outputs": [],
   "source": [
    "#9.3\n",
    "class User():\n",
    "    def __init__(self,first_name,last_name,email,aadhar_number):\n",
    "        self.first_name=first_name.title()\n",
    "        self.last_name=last_name.title()\n",
    "        self.email=email\n",
    "        self.aadhar_number=aadhar_number\n",
    "    def describe_user(self):\n",
    "        print(\"Name of user :\"+ self.first_name +\" \"+self.last_name)\n",
    "        print(\"email ID :\"+self.email)\n",
    "        print(\"aadhar card number :\"+str(self.aadhar_number) )\n",
    "    def greet_user(self):\n",
    "        print(\"Hello \" + self.first_name+' '+self.last_name)\n",
    "        "
   ]
  },
  {
   "cell_type": "code",
   "execution_count": 6,
   "metadata": {},
   "outputs": [
    {
     "name": "stdout",
     "output_type": "stream",
     "text": [
      "Name of user :Luis Enrique\n",
      "email ID :luisboSS@spain.com\n",
      "aadhar card number :669333652201\n",
      "Hello Luis Enrique\n"
     ]
    }
   ],
   "source": [
    "enrique=User(\"luis\",\"enrique\",\"luisboSS@spain.com\",669333652201)\n",
    "enrique.describe_user()\n",
    "enrique.greet_user()"
   ]
  },
  {
   "cell_type": "code",
   "execution_count": 4,
   "metadata": {},
   "outputs": [
    {
     "name": "stdout",
     "output_type": "stream",
     "text": [
      "2016 Audi A4\n"
     ]
    }
   ],
   "source": [
    "class Car():\n",
    "    def __init__(self,make,model,year):\n",
    "        self.make=make\n",
    "        self.model=model\n",
    "        self.year=year\n",
    "    \n",
    "    def get_descriptive_name(self):\n",
    "        long_name=str(self.year)+' '+self.make+' '+self.model\n",
    "        return long_name.title()\n",
    "    \n",
    "my_new_car=Car('audi','a4',2016)\n",
    "print(my_new_car.get_descriptive_name())\n",
    "    "
   ]
  },
  {
   "cell_type": "code",
   "execution_count": 2,
   "metadata": {},
   "outputs": [
    {
     "name": "stdout",
     "output_type": "stream",
     "text": [
      "2016 Audi A4\n",
      "This car has 0 miles on it.\n"
     ]
    }
   ],
   "source": [
    "class Car():\n",
    "    def __init__(self,make,model,year):\n",
    "        self.make=make\n",
    "        self.model=model\n",
    "        self.year=year\n",
    "        self.odometer_reading=0\n",
    "    \n",
    "    def get_descriptive_name(self):\n",
    "        long_name=str(self.year)+' '+self.make+' '+self.model\n",
    "        return long_name.title()\n",
    "    \n",
    "    def read_odometer(self):\n",
    "        print(\"This car has \"+str(self.odometer_reading)+\" miles on it.\")\n",
    "    \n",
    "my_new_car=Car('audi','a4',2016)\n",
    "print(my_new_car.get_descriptive_name())\n",
    "my_new_car.read_odometer()"
   ]
  },
  {
   "cell_type": "code",
   "execution_count": 3,
   "metadata": {},
   "outputs": [
    {
     "name": "stdout",
     "output_type": "stream",
     "text": [
      "2016 Audi A4\n",
      "This car has 23 miles on it.\n"
     ]
    }
   ],
   "source": [
    "class Car():\n",
    "    def __init__(self,make,model,year):\n",
    "        self.make=make\n",
    "        self.model=model\n",
    "        self.year=year\n",
    "        self.odometer_reading=0\n",
    "    \n",
    "    def get_descriptive_name(self):\n",
    "        long_name=str(self.year)+' '+self.make+' '+self.model\n",
    "        return long_name.title()\n",
    "    \n",
    "    def read_odometer(self):\n",
    "        print(\"This car has \"+str(self.odometer_reading)+\" miles on it.\")\n",
    "    \n",
    "my_new_car=Car('audi','a4',2016)\n",
    "print(my_new_car.get_descriptive_name())\n",
    "my_new_car.odometer_reading=23\n",
    "my_new_car.read_odometer()"
   ]
  },
  {
   "cell_type": "code",
   "execution_count": 5,
   "metadata": {},
   "outputs": [
    {
     "name": "stdout",
     "output_type": "stream",
     "text": [
      "2016 Audi A4\n",
      "This car has 26 miles on it.\n"
     ]
    }
   ],
   "source": [
    "class Car():\n",
    "    def __init__(self,make,model,year):\n",
    "        self.make=make\n",
    "        self.model=model\n",
    "        self.year=year\n",
    "        self.odometer_reading=0\n",
    "    \n",
    "    def get_descriptive_name(self):\n",
    "        long_name=str(self.year)+' '+self.make+' '+self.model\n",
    "        return long_name.title()\n",
    "    \n",
    "    def read_odometer(self):\n",
    "        print(\"This car has \"+str(self.odometer_reading)+\" miles on it.\")\n",
    "    \n",
    "    def update_odometer(self,mileage):\n",
    "        self.odometer_reading=mileage\n",
    "        \n",
    "my_new_car=Car('audi','a4',2016)\n",
    "print(my_new_car.get_descriptive_name())\n",
    "my_new_car.update_odometer(26)\n",
    "my_new_car.read_odometer()"
   ]
  },
  {
   "cell_type": "code",
   "execution_count": 6,
   "metadata": {},
   "outputs": [
    {
     "name": "stdout",
     "output_type": "stream",
     "text": [
      "2016 Audi A4\n",
      "This car has 26 miles on it.\n"
     ]
    }
   ],
   "source": [
    "class Car():\n",
    "    def __init__(self,make,model,year):\n",
    "        self.make=make\n",
    "        self.model=model\n",
    "        self.year=year\n",
    "        self.odometer_reading=0\n",
    "    \n",
    "    def get_descriptive_name(self):\n",
    "        long_name=str(self.year)+' '+self.make+' '+self.model\n",
    "        return long_name.title()\n",
    "    \n",
    "    def read_odometer(self):\n",
    "        print(\"This car has \"+str(self.odometer_reading)+\" miles on it.\")\n",
    "    \n",
    "    def update_odometer(self,mileage):\n",
    "        if mileage>=self.odometer_reading:\n",
    "            self.odometer_reading=mileage\n",
    "        else:\n",
    "            print(\"you can't roll back an osometer!!\")\n",
    "        \n",
    "my_new_car=Car('audi','a4',2016)\n",
    "print(my_new_car.get_descriptive_name())\n",
    "my_new_car.update_odometer(26)\n",
    "my_new_car.read_odometer()"
   ]
  },
  {
   "cell_type": "code",
   "execution_count": 7,
   "metadata": {},
   "outputs": [
    {
     "name": "stdout",
     "output_type": "stream",
     "text": [
      "you can't roll back an osometer!!\n",
      "This car has 26 miles on it.\n"
     ]
    }
   ],
   "source": [
    "my_new_car.update_odometer(2)\n",
    "my_new_car.read_odometer()"
   ]
  },
  {
   "cell_type": "code",
   "execution_count": 10,
   "metadata": {},
   "outputs": [
    {
     "name": "stdout",
     "output_type": "stream",
     "text": [
      "2016 Audi A4\n",
      "This car has 26 miles on it.\n"
     ]
    }
   ],
   "source": [
    "class Car():\n",
    "    def __init__(self,make,model,year):\n",
    "        self.make=make\n",
    "        self.model=model\n",
    "        self.year=year\n",
    "        self.odometer_reading=0\n",
    "    \n",
    "    def get_descriptive_name(self):\n",
    "        long_name=str(self.year)+' '+self.make+' '+self.model\n",
    "        return long_name.title()\n",
    "    \n",
    "    def read_odometer(self):\n",
    "        print(\"This car has \"+str(self.odometer_reading)+\" miles on it.\")\n",
    "    \n",
    "    def update_odometer(self,mileage):\n",
    "            self.odometer_reading=mileage\n",
    "\n",
    "    def increment_odometer(self,miles):\n",
    "        self.odometer_reading+=miles\n",
    "        \n",
    "my_new_car=Car('audi','a4',2016)\n",
    "print(my_new_car.get_descriptive_name())\n",
    "my_new_car.update_odometer(26)\n",
    "my_new_car.read_odometer()"
   ]
  },
  {
   "cell_type": "code",
   "execution_count": 11,
   "metadata": {},
   "outputs": [
    {
     "name": "stdout",
     "output_type": "stream",
     "text": [
      "This car has 40 miles on it.\n"
     ]
    }
   ],
   "source": [
    "my_new_car.increment_odometer(14)\n",
    "my_new_car.read_odometer()"
   ]
  },
  {
   "cell_type": "code",
   "execution_count": 12,
   "metadata": {},
   "outputs": [],
   "source": [
    "#9.4\n",
    "class Restaurant():\n",
    "    def __init__(self,restaurant_name,cuisine_type):\n",
    "        self.restaurant_name=restaurant_name\n",
    "        self.cuisine_type=cuisine_type\n",
    "        self.number_served=0\n",
    "    def describe_restaurant(self):\n",
    "        print(\"the name of restaurant is:\" + self.restaurant_name.title())\n",
    "        print(\"\\nthe cuisine of restaurant is:\"+self.cuisine_type)\n",
    "    def open_restaurant(self):\n",
    "        print(self.restaurant_name + \" the restaurant is now OPEN!!\")\n",
    "    def no_of_people_served(self):\n",
    "        print(\"Number of folks served:\"+str(self.number_served) )\n",
    "    def set_number_served(self,number):\n",
    "        self.number_served=number\n",
    "    def increment_number_served(self,additional_people):\n",
    "        self.number_served+=additional_people"
   ]
  },
  {
   "cell_type": "code",
   "execution_count": 13,
   "metadata": {},
   "outputs": [
    {
     "name": "stdout",
     "output_type": "stream",
     "text": [
      "Number of folks served:0\n",
      "None\n"
     ]
    }
   ],
   "source": [
    "today=Restaurant(\"Haldiram\",\"everything\")\n",
    "print(today.no_of_people_served())"
   ]
  },
  {
   "cell_type": "code",
   "execution_count": 14,
   "metadata": {},
   "outputs": [
    {
     "name": "stdout",
     "output_type": "stream",
     "text": [
      "Number of folks served:20\n",
      "None\n"
     ]
    }
   ],
   "source": [
    "today.set_number_served(20)\n",
    "print(today.no_of_people_served())"
   ]
  },
  {
   "cell_type": "code",
   "execution_count": 15,
   "metadata": {},
   "outputs": [
    {
     "name": "stdout",
     "output_type": "stream",
     "text": [
      "Number of folks served:40\n",
      "None\n"
     ]
    }
   ],
   "source": [
    "today.increment_number_served(20)\n",
    "print(today.no_of_people_served())"
   ]
  },
  {
   "cell_type": "code",
   "execution_count": 4,
   "metadata": {},
   "outputs": [],
   "source": [
    "#9.5\n",
    "class User():\n",
    "    def __init__(self,first_name,last_name,email,aadhar_number):\n",
    "        self.first_name=first_name.title()\n",
    "        self.last_name=last_name.title()\n",
    "        self.email=email\n",
    "        self.aadhar_number=aadhar_number\n",
    "        self.login_attempts=0\n",
    "    def describe_user(self):\n",
    "        print(\"Name of user :\"+ self.first_name +\" \"+self.last_name)\n",
    "        print(\"email ID :\"+self.email)\n",
    "        print(\"aadhar card number :\"+str(self.aadhar_number) )\n",
    "    def greet_user(self):\n",
    "        print(\"Hello \" + self.first_name+' '+self.last_name)\n",
    "    def increment_login_attempts(self):\n",
    "        self.login_attempts+=1\n",
    "        print(\"You have tried logging in: \"+ str(self.login_attempts)+\" times\")\n",
    "    def reset_login_attempts(self):\n",
    "        self.login_attempts=0\n",
    "        print(\"You have tried logging in: \"+ str(self.login_attempts)+\" times\")\n",
    "\n",
    "        "
   ]
  },
  {
   "cell_type": "code",
   "execution_count": 5,
   "metadata": {},
   "outputs": [
    {
     "name": "stdout",
     "output_type": "stream",
     "text": [
      "You have tried logging in: 1 times\n"
     ]
    }
   ],
   "source": [
    "my_attempts=User(\"Steve\",\"smith\",\"ssmith@au.in\",5563256971)\n",
    "my_attempts.increment_login_attempts()"
   ]
  },
  {
   "cell_type": "code",
   "execution_count": 6,
   "metadata": {},
   "outputs": [
    {
     "name": "stdout",
     "output_type": "stream",
     "text": [
      "You have tried logging in: 2 times\n",
      "You have tried logging in: 3 times\n",
      "You have tried logging in: 4 times\n"
     ]
    }
   ],
   "source": [
    "my_attempts.increment_login_attempts()\n",
    "my_attempts.increment_login_attempts()\n",
    "my_attempts.increment_login_attempts()"
   ]
  },
  {
   "cell_type": "code",
   "execution_count": 7,
   "metadata": {},
   "outputs": [
    {
     "name": "stdout",
     "output_type": "stream",
     "text": [
      "You have tried logging in: 0 times\n"
     ]
    }
   ],
   "source": [
    "my_attempts.reset_login_attempts()"
   ]
  },
  {
   "cell_type": "code",
   "execution_count": 9,
   "metadata": {},
   "outputs": [],
   "source": [
    "class Car():\n",
    "    def __init__(self,make,model,year):\n",
    "        self.make=make\n",
    "        self.model=model\n",
    "        self.year=year\n",
    "        self.odometer_reading=0\n",
    "    \n",
    "    def get_descriptive_name(self):\n",
    "        long_name=str(self.year)+' '+self.make+' '+self.model\n",
    "        return long_name.title()\n",
    "    \n",
    "    def read_odometer(self):\n",
    "        print(\"This car has \"+str(self.odometer_reading)+\" miles on it.\")\n",
    "    \n",
    "    def update_odometer(self,mileage):\n",
    "            self.odometer_reading=mileage\n",
    "\n",
    "    def increment_odometer(self,miles):\n",
    "        self.odometer_reading+=miles\n",
    "        "
   ]
  },
  {
   "cell_type": "code",
   "execution_count": 10,
   "metadata": {},
   "outputs": [],
   "source": [
    "#INHERITANCE CLASS\n",
    "class ElectricCar(Car):\n",
    "    def __init__(self,make,model,year):\n",
    "        super().__init__(make,model,year)\n",
    "        \n"
   ]
  },
  {
   "cell_type": "code",
   "execution_count": 11,
   "metadata": {},
   "outputs": [
    {
     "name": "stdout",
     "output_type": "stream",
     "text": [
      "2016 Tesla Model S\n"
     ]
    }
   ],
   "source": [
    "tesla=ElectricCar(\"tesla\",\"model s\",2016)\n",
    "print(tesla.get_descriptive_name())"
   ]
  },
  {
   "cell_type": "code",
   "execution_count": 12,
   "metadata": {},
   "outputs": [],
   "source": [
    "class ElectricCar(Car):\n",
    "    def __init__(self,make,model,year):\n",
    "        super().__init__(make,model,year)\n",
    "        self.battery_size=70\n",
    "        \n",
    "    def describe_battery(self):\n",
    "        print(\"This car has a \"+str(self.battery_size)+\" kA battery\")"
   ]
  },
  {
   "cell_type": "code",
   "execution_count": 13,
   "metadata": {},
   "outputs": [
    {
     "name": "stdout",
     "output_type": "stream",
     "text": [
      "2016 Tesla Model S\n",
      "This car has a 70 kA battery\n"
     ]
    }
   ],
   "source": [
    "My_tesla=ElectricCar(\"tesla\",\"model s\",2016)\n",
    "print(My_tesla.get_descriptive_name())\n",
    "My_tesla.describe_battery()"
   ]
  },
  {
   "cell_type": "code",
   "execution_count": 14,
   "metadata": {},
   "outputs": [],
   "source": [
    "class Car():\n",
    "    def __init__(self,make,model,year):\n",
    "        self.make=make\n",
    "        self.model=model\n",
    "        self.year=year\n",
    "        self.odometer_reading=0\n",
    "    \n",
    "    def get_descriptive_name(self):\n",
    "        long_name=str(self.year)+' '+self.make+' '+self.model\n",
    "        return long_name.title()\n",
    "    \n",
    "    def read_odometer(self):\n",
    "        print(\"This car has \"+str(self.odometer_reading)+\" miles on it.\")\n",
    "    \n",
    "    def update_odometer(self,mileage):\n",
    "            self.odometer_reading=mileage\n",
    "\n",
    "    def increment_odometer(self,miles):\n",
    "        self.odometer_reading+=miles\n",
    "        "
   ]
  },
  {
   "cell_type": "code",
   "execution_count": 21,
   "metadata": {},
   "outputs": [],
   "source": [
    "class Battery():\n",
    "    def __init__(self,battery_size=70):\n",
    "        self.battery_size=battery_size\n",
    "    def describe_battery(self):\n",
    "        print(\"This car has a \"+str(self.battery_size)+\" kA battery\")"
   ]
  },
  {
   "cell_type": "code",
   "execution_count": 19,
   "metadata": {},
   "outputs": [],
   "source": [
    "class ElectricCar(Car):\n",
    "    def __init__(self,make,model,year):\n",
    "        super().__init__(make,model,year)\n",
    "        self.battery=Battery()"
   ]
  },
  {
   "cell_type": "code",
   "execution_count": 22,
   "metadata": {},
   "outputs": [
    {
     "name": "stdout",
     "output_type": "stream",
     "text": [
      "2016 Prius Model 7\n",
      "This car has a 70 kA battery\n"
     ]
    }
   ],
   "source": [
    "prius=ElectricCar(\"prius\",\"model 7\",2016)\n",
    "print(prius.get_descriptive_name())\n",
    "prius.battery.describe_battery()"
   ]
  },
  {
   "cell_type": "code",
   "execution_count": 23,
   "metadata": {},
   "outputs": [],
   "source": [
    "class Battery():\n",
    "    def __init__(self,battery_size=70):\n",
    "        self.battery_size=battery_size\n",
    "    def describe_battery(self):\n",
    "        print(\"This car has a \"+str(self.battery_size)+\" kA battery\")\n",
    "    def get_range(self):\n",
    "        if self.battery_size==70:\n",
    "            range=240\n",
    "        elif self.battery_size==85:\n",
    "            range=270\n",
    "        print(\"This car can go approx. \"+str(range)+\" miles on full charge\")  \n",
    "        "
   ]
  },
  {
   "cell_type": "code",
   "execution_count": 24,
   "metadata": {},
   "outputs": [
    {
     "name": "stdout",
     "output_type": "stream",
     "text": [
      "2016 Prius Model 7\n",
      "This car has a 70 kA battery\n",
      "This car can go approx. 240 miles on full charge\n"
     ]
    }
   ],
   "source": [
    "prius=ElectricCar(\"prius\",\"model 7\",2016)\n",
    "print(prius.get_descriptive_name())\n",
    "prius.battery.describe_battery()\n",
    "prius.battery.get_range()"
   ]
  },
  {
   "cell_type": "code",
   "execution_count": 25,
   "metadata": {},
   "outputs": [
    {
     "name": "stdout",
     "output_type": "stream",
     "text": [
      "This car can go approx. 270 miles on full charge\n"
     ]
    }
   ],
   "source": [
    "prius.battery.battery_size=85\n",
    "prius.battery.get_range()"
   ]
  },
  {
   "cell_type": "code",
   "execution_count": 1,
   "metadata": {},
   "outputs": [],
   "source": [
    "# 9.6\n",
    "class Restaurant():\n",
    "    def __init__(self,restaurant_name,cuisine_type):\n",
    "        self.restaurant_name=restaurant_name\n",
    "        self.cuisine_type=cuisine_type\n",
    "        self.number_served=0\n",
    "    def describe_restaurant(self):\n",
    "        print(\"the name of restaurant is:\" + self.restaurant_name.title())\n",
    "        print(\"\\nthe cuisine of restaurant is:\"+self.cuisine_type)\n",
    "    def open_restaurant(self):\n",
    "        print(self.restaurant_name + \" the restaurant is now OPEN!!\")\n",
    "    def no_of_people_served(self):\n",
    "        print(\"Number of folks served:\"+str(self.number_served) )\n",
    "    def set_number_served(self,number):\n",
    "        self.number_served=number\n",
    "    def increment_number_served(self,additional_people):\n",
    "        self.number_served+=additional_people"
   ]
  },
  {
   "cell_type": "code",
   "execution_count": 4,
   "metadata": {},
   "outputs": [],
   "source": [
    "class IceCreamStand(Restaurant):\n",
    "    def __init__(self,restaurant_name,cuisine_type=\"Ice Cream\"):\n",
    "        super().__init__(restaurant_name,cuisine_type)\n",
    "        self.flavors=[]\n",
    "        \n",
    "    def flavors_offered(self):\n",
    "        print(\"We offer ice cream in these flavors:\\n\")\n",
    "        for i in self.flavors:\n",
    "            print(i)\n",
    "    "
   ]
  },
  {
   "cell_type": "code",
   "execution_count": 5,
   "metadata": {},
   "outputs": [],
   "source": [
    "eating_out=IceCreamStand(\"Vadilal\")\n",
    "eating_out.flavors=[\"Chocolate\",\"Vanilla\",\"mango\"]"
   ]
  },
  {
   "cell_type": "code",
   "execution_count": 7,
   "metadata": {},
   "outputs": [
    {
     "name": "stdout",
     "output_type": "stream",
     "text": [
      "We offer ice cream in these flavors:\n",
      "\n",
      "Chocolate\n",
      "Vanilla\n",
      "mango\n"
     ]
    }
   ],
   "source": [
    "eating_out.flavors_offered()"
   ]
  },
  {
   "cell_type": "code",
   "execution_count": 8,
   "metadata": {},
   "outputs": [
    {
     "name": "stdout",
     "output_type": "stream",
     "text": [
      "the name of restaurant is:Vadilal\n",
      "\n",
      "the cuisine of restaurant is:Ice Cream\n"
     ]
    }
   ],
   "source": [
    "eating_out.describe_restaurant()"
   ]
  },
  {
   "cell_type": "code",
   "execution_count": 9,
   "metadata": {},
   "outputs": [],
   "source": [
    "# 9.7\n",
    "class User():\n",
    "    def __init__(self,first_name,last_name,email,aadhar_number):\n",
    "        self.first_name=first_name.title()\n",
    "        self.last_name=last_name.title()\n",
    "        self.email=email\n",
    "        self.aadhar_number=aadhar_number\n",
    "        self.login_attempts=0\n",
    "    def describe_user(self):\n",
    "        print(\"Name of user :\"+ self.first_name +\" \"+self.last_name)\n",
    "        print(\"email ID :\"+self.email)\n",
    "        print(\"aadhar card number :\"+str(self.aadhar_number) )\n",
    "    def greet_user(self):\n",
    "        print(\"Hello \" + self.first_name+' '+self.last_name)\n",
    "    def increment_login_attempts(self):\n",
    "        self.login_attempts+=1\n",
    "        print(\"You have tried logging in: \"+ str(self.login_attempts)+\" times\")\n",
    "    def reset_login_attempts(self):\n",
    "        self.login_attempts=0\n",
    "        print(\"You have tried logging in: \"+ str(self.login_attempts)+\" times\")"
   ]
  },
  {
   "cell_type": "code",
   "execution_count": 12,
   "metadata": {},
   "outputs": [],
   "source": [
    "class Admin(User):\n",
    "    def __init__(self,first_name,last_name,email,aadhar_number):\n",
    "        super().__init__(first_name,last_name,email,aadhar_number)\n",
    "        self.privileges=[]\n",
    "        \n",
    "    def show_privileges(self):\n",
    "        print(\"The priviliges of administrator:\")\n",
    "        for i in self.privileges:\n",
    "            print(i)\n",
    "            "
   ]
  },
  {
   "cell_type": "code",
   "execution_count": 13,
   "metadata": {},
   "outputs": [],
   "source": [
    "adminho=Admin(\"Thomas\",\"Mueller\",\"thmsis@g.yo\",5565659)\n",
    "adminho.privileges=[\"can add post\", \"can delete post\", \"can ban user\",\"can watch peaky blinders\"]"
   ]
  },
  {
   "cell_type": "code",
   "execution_count": 14,
   "metadata": {},
   "outputs": [
    {
     "name": "stdout",
     "output_type": "stream",
     "text": [
      "The priviliges of administrator:\n",
      "can add post\n",
      "can delete post\n",
      "can ban user\n",
      "can watch peaky blinders\n",
      "Name of user :Thomas Mueller\n",
      "email ID :thmsis@g.yo\n",
      "aadhar card number :5565659\n"
     ]
    }
   ],
   "source": [
    "adminho.show_privileges()\n",
    "adminho.describe_user()"
   ]
  },
  {
   "cell_type": "code",
   "execution_count": 15,
   "metadata": {},
   "outputs": [],
   "source": [
    "# 9.8\n",
    "class User():\n",
    "    def __init__(self,first_name,last_name,email,aadhar_number):\n",
    "        self.first_name=first_name.title()\n",
    "        self.last_name=last_name.title()\n",
    "        self.email=email\n",
    "        self.aadhar_number=aadhar_number\n",
    "        self.login_attempts=0\n",
    "    def describe_user(self):\n",
    "        print(\"Name of user :\"+ self.first_name +\" \"+self.last_name)\n",
    "        print(\"email ID :\"+self.email)\n",
    "        print(\"aadhar card number :\"+str(self.aadhar_number) )\n",
    "    def greet_user(self):\n",
    "        print(\"Hello \" + self.first_name+' '+self.last_name)\n",
    "    def increment_login_attempts(self):\n",
    "        self.login_attempts+=1\n",
    "        print(\"You have tried logging in: \"+ str(self.login_attempts)+\" times\")\n",
    "    def reset_login_attempts(self):\n",
    "        self.login_attempts=0\n",
    "        print(\"You have tried logging in: \"+ str(self.login_attempts)+\" times\")"
   ]
  },
  {
   "cell_type": "code",
   "execution_count": 20,
   "metadata": {},
   "outputs": [],
   "source": [
    "class Admin(User):\n",
    "    def __init__(self,first_name,last_name,email,aadhar_number):\n",
    "        super().__init__(first_name,last_name,email,aadhar_number)\n",
    "        self.privileges=Privileges()\n"
   ]
  },
  {
   "cell_type": "code",
   "execution_count": 22,
   "metadata": {},
   "outputs": [],
   "source": [
    "class Privileges():\n",
    "    def __init__(self,privileges=[]):\n",
    "        self.privileges=privileges\n",
    "    def show_privileges(self):\n",
    "        print(\"The priviliges of administrator:\")\n",
    "        for i in self.privileges:\n",
    "            print(i)"
   ]
  },
  {
   "cell_type": "code",
   "execution_count": 25,
   "metadata": {},
   "outputs": [],
   "source": [
    "admin_1=Admin(\"arthur\",\"shelby\",\"devil@hell.uk\",666)\n",
    "admin_1.privileges.privileges=[\"kill\",\"smoke\",\"dont smile\"]"
   ]
  },
  {
   "cell_type": "code",
   "execution_count": 26,
   "metadata": {},
   "outputs": [
    {
     "name": "stdout",
     "output_type": "stream",
     "text": [
      "The priviliges of administrator:\n",
      "kill\n",
      "smoke\n",
      "dont smile\n"
     ]
    }
   ],
   "source": [
    "admin_1.privileges.show_privileges()"
   ]
  },
  {
   "cell_type": "code",
   "execution_count": 27,
   "metadata": {},
   "outputs": [
    {
     "name": "stdout",
     "output_type": "stream",
     "text": [
      "Name of user :Arthur Shelby\n",
      "email ID :devil@hell.uk\n",
      "aadhar card number :666\n"
     ]
    }
   ],
   "source": [
    "admin_1.describe_user()"
   ]
  },
  {
   "cell_type": "code",
   "execution_count": 39,
   "metadata": {},
   "outputs": [],
   "source": [
    "# 9.9\n",
    "class Car():\n",
    "    def __init__(self,make,model,year):\n",
    "        self.make=make\n",
    "        self.model=model\n",
    "        self.year=year\n",
    "        self.odometer_reading=0\n",
    "    \n",
    "    def get_descriptive_name(self):\n",
    "        long_name=str(self.year)+' '+self.make+' '+self.model\n",
    "        return long_name.title()\n",
    "    \n",
    "    def read_odometer(self):\n",
    "        print(\"This car has \"+str(self.odometer_reading)+\" miles on it.\")\n",
    "    \n",
    "    def update_odometer(self,mileage):\n",
    "            self.odometer_reading=mileage\n",
    "\n",
    "    def increment_odometer(self,miles):\n",
    "        self.odometer_reading+=miles\n",
    "   \n",
    "\n",
    "class Battery():\n",
    "    def __init__(self,battery_size=70):\n",
    "        self.battery_size=battery_size\n",
    "        \n",
    "    def describe_battery(self):\n",
    "        print(\"This car has a \"+str(self.battery_size)+\" kA battery\")\n",
    "    \n",
    "\n",
    "            \n",
    "    def get_range(self):\n",
    "        if self.battery_size==70:\n",
    "            range=240\n",
    "        elif self.battery_size==85:\n",
    "            range=270\n",
    "        print(\"This car can go approx. \"+str(range)+\" miles on full charge\")  \n",
    "    def upgrade_battery(self):\n",
    "        if self.battery_size==85:\n",
    "            print(\"Ready to roll !\")\n",
    "        else:\n",
    "            self.battery_size=85         \n",
    "        \n",
    "class ElectricCar(Car):\n",
    "    def __init__(self,make,model,year):\n",
    "        super().__init__(make,model,year)\n",
    "        self.battery=Battery()"
   ]
  },
  {
   "cell_type": "code",
   "execution_count": 40,
   "metadata": {},
   "outputs": [
    {
     "name": "stdout",
     "output_type": "stream",
     "text": [
      "This car can go approx. 240 miles on full charge\n"
     ]
    }
   ],
   "source": [
    "reva=ElectricCar(\"Reva\",\"chalti hai\",2025)\n",
    "reva.battery.get_range()"
   ]
  },
  {
   "cell_type": "code",
   "execution_count": 41,
   "metadata": {},
   "outputs": [],
   "source": [
    "reva.battery.upgrade_battery()"
   ]
  },
  {
   "cell_type": "code",
   "execution_count": 42,
   "metadata": {},
   "outputs": [
    {
     "name": "stdout",
     "output_type": "stream",
     "text": [
      "This car can go approx. 270 miles on full charge\n"
     ]
    }
   ],
   "source": [
    "reva.battery.get_range()"
   ]
  },
  {
   "cell_type": "code",
   "execution_count": 1,
   "metadata": {},
   "outputs": [
    {
     "data": {
      "text/plain": [
       "OrderedDict([('pedri', 'ruby'),\n",
       "             ('coutinho', 'python'),\n",
       "             ('stegen', 'java'),\n",
       "             ('dembele', 'c++')])"
      ]
     },
     "execution_count": 1,
     "metadata": {},
     "output_type": "execute_result"
    }
   ],
   "source": [
    "#Importing OrderedDict\n",
    "from collections import OrderedDict\n",
    "fav_langs=OrderedDict()\n",
    "fav_langs[\"pedri\"]=\"ruby\"\n",
    "fav_langs[\"coutinho\"]=\"python\"\n",
    "fav_langs[\"stegen\"]=\"java\"\n",
    "fav_langs[\"dembele\"]=\"c++\"\n",
    "\n",
    "fav_langs"
   ]
  },
  {
   "cell_type": "code",
   "execution_count": 2,
   "metadata": {},
   "outputs": [
    {
     "name": "stdout",
     "output_type": "stream",
     "text": [
      "Pedri likes ruby\n",
      "Coutinho likes python\n",
      "Stegen likes java\n",
      "Dembele likes c++\n"
     ]
    }
   ],
   "source": [
    "for name,value in fav_langs.items():\n",
    "    print( name.title() +\" likes \"+value)"
   ]
  },
  {
   "cell_type": "code",
   "execution_count": null,
   "metadata": {},
   "outputs": [],
   "source": []
  }
 ],
 "metadata": {
  "kernelspec": {
   "display_name": "Python 3",
   "language": "python",
   "name": "python3"
  },
  "language_info": {
   "codemirror_mode": {
    "name": "ipython",
    "version": 3
   },
   "file_extension": ".py",
   "mimetype": "text/x-python",
   "name": "python",
   "nbconvert_exporter": "python",
   "pygments_lexer": "ipython3",
   "version": "3.7.1"
  }
 },
 "nbformat": 4,
 "nbformat_minor": 2
}
